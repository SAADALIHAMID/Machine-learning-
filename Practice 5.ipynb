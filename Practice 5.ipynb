{
 "cells": [
  {
   "cell_type": "code",
   "execution_count": 1,
   "id": "45712e75-7d94-4d7e-bd93-b68cd5ae294a",
   "metadata": {},
   "outputs": [
    {
     "name": "stdout",
     "output_type": "stream",
     "text": [
      "3\n"
     ]
    }
   ],
   "source": [
    "lis=[3,6,7]\n",
    "print(min(lis))"
   ]
  },
  {
   "cell_type": "code",
   "execution_count": 2,
   "id": "21435351-cf03-4598-9c53-df3e2f49135b",
   "metadata": {},
   "outputs": [
    {
     "name": "stdout",
     "output_type": "stream",
     "text": [
      "7\n"
     ]
    }
   ],
   "source": [
    "lis=[3,6,7]\n",
    "print(max(lis))"
   ]
  },
  {
   "cell_type": "code",
   "execution_count": 4,
   "id": "bb20a6af-f818-4db8-898b-baec3b75815b",
   "metadata": {},
   "outputs": [
    {
     "name": "stdout",
     "output_type": "stream",
     "text": [
      "5\n"
     ]
    }
   ],
   "source": [
    "def sum(): # without parameter\n",
    "    a=1\n",
    "    b=4\n",
    "    print(a+b)\n",
    "sum()"
   ]
  },
  {
   "cell_type": "code",
   "execution_count": 5,
   "id": "d745c4e7-4d64-4f48-b98e-0b71ba411e63",
   "metadata": {},
   "outputs": [
    {
     "name": "stdout",
     "output_type": "stream",
     "text": [
      "5\n"
     ]
    }
   ],
   "source": [
    "def sum(a,b): #With parameter\n",
    "    print(a+b)\n",
    "sum(2,3)"
   ]
  },
  {
   "cell_type": "code",
   "execution_count": 6,
   "id": "cb98371d-6868-49d3-8a60-acbde3f75c55",
   "metadata": {},
   "outputs": [
    {
     "name": "stdout",
     "output_type": "stream",
     "text": [
      "5\n"
     ]
    }
   ],
   "source": [
    "def sum(a,b):  \n",
    "    print(a+b)\n",
    "    return\n",
    "sum(2,3)"
   ]
  },
  {
   "cell_type": "code",
   "execution_count": 7,
   "id": "007294d9-26f9-4ad6-b80a-6936d331c94c",
   "metadata": {},
   "outputs": [
    {
     "name": "stdout",
     "output_type": "stream",
     "text": [
      "5\n"
     ]
    }
   ],
   "source": [
    "def sum(a,b):   # with return\n",
    "    return a+b\n",
    "f=sum(2,3)\n",
    "print(f)"
   ]
  },
  {
   "cell_type": "code",
   "execution_count": 8,
   "id": "07dd523f-3a69-4511-9727-7b1fedbddff7",
   "metadata": {},
   "outputs": [
    {
     "name": "stdout",
     "output_type": "stream",
     "text": [
      "5\n"
     ]
    }
   ],
   "source": [
    "def sum(a,b): #positional argument parameter\n",
    "    print(a+b)\n",
    "sum(2,3)"
   ]
  },
  {
   "cell_type": "code",
   "execution_count": 9,
   "id": "9cfaee11-6025-47fe-978d-64a37d9b6628",
   "metadata": {},
   "outputs": [
    {
     "name": "stdout",
     "output_type": "stream",
     "text": [
      "3\n",
      "2\n",
      "5\n"
     ]
    }
   ],
   "source": [
    "def sum(a,b): #keyword parameter\n",
    "    print(a)\n",
    "    print(b)\n",
    "    print(a+b)\n",
    "sum(b=2,a=3)"
   ]
  },
  {
   "cell_type": "code",
   "execution_count": 10,
   "id": "438d9c09-8f14-4c5e-b43b-e1f5fbf50699",
   "metadata": {},
   "outputs": [
    {
     "name": "stdout",
     "output_type": "stream",
     "text": [
      "11\n"
     ]
    }
   ],
   "source": [
    "def sum(a,b=9): #default  parameter\n",
    "    print(a+b)\n",
    "sum(2)"
   ]
  },
  {
   "cell_type": "code",
   "execution_count": 11,
   "id": "18587fcc-87eb-4ac5-b0be-1fc1cd29f8bf",
   "metadata": {},
   "outputs": [
    {
     "name": "stdout",
     "output_type": "stream",
     "text": [
      "6\n"
     ]
    }
   ],
   "source": [
    "def sum(a,b=9): \n",
    "    print(a+b)\n",
    "sum(2,4)"
   ]
  },
  {
   "cell_type": "code",
   "execution_count": 17,
   "id": "dda6d16a-f273-430c-88f1-1c9faf28f303",
   "metadata": {},
   "outputs": [
    {
     "name": "stdout",
     "output_type": "stream",
     "text": [
      "{'Ali': 1, 'Arslan': 3, 'Fatima_Mustafa': 1}\n",
      "<class 'dict'>\n"
     ]
    }
   ],
   "source": [
    "def di(**student):\n",
    "    print(student)\n",
    "    print(type(student))\n",
    "di(Ali=1,Arslan=3,Fatima_Mustafa=1)"
   ]
  },
  {
   "cell_type": "code",
   "execution_count": 16,
   "id": "abdd0c81-3221-47f4-9f52-da82c634b214",
   "metadata": {},
   "outputs": [
    {
     "name": "stdout",
     "output_type": "stream",
     "text": [
      "(3, 5, 7, 9)\n",
      "<class 'tuple'>\n"
     ]
    }
   ],
   "source": [
    "def di(*student):\n",
    "    print(student)\n",
    "    print(type(student))\n",
    "di(3,5,7,9)"
   ]
  },
  {
   "cell_type": "code",
   "execution_count": 19,
   "id": "d7579eb1-e06f-45b3-b258-c0989fe0aa29",
   "metadata": {},
   "outputs": [
    {
     "name": "stdout",
     "output_type": "stream",
     "text": [
      "3\n"
     ]
    }
   ],
   "source": [
    "a,b,c,d=[1,2,3,4] #unpacking\n",
    "print(c)"
   ]
  },
  {
   "cell_type": "code",
   "execution_count": 20,
   "id": "597dc53b-048b-492e-add8-e93459af2b8c",
   "metadata": {},
   "outputs": [
    {
     "name": "stdout",
     "output_type": "stream",
     "text": [
      "4\n",
      "6\n",
      "9\n",
      "7\n"
     ]
    }
   ],
   "source": [
    "def di(a,b,c,d):\n",
    "    print(a)\n",
    "    print(b)\n",
    "    print(c)\n",
    "    print(d)\n",
    "k=[4,6,9,7]\n",
    "di(*k)"
   ]
  },
  {
   "cell_type": "code",
   "execution_count": 21,
   "id": "439c59c7-6af0-42b0-ab84-542839b2dd78",
   "metadata": {},
   "outputs": [
    {
     "name": "stdout",
     "output_type": "stream",
     "text": [
      "14\n"
     ]
    }
   ],
   "source": [
    "# lambda parameter : expression\n",
    "v=lambda a,b:a+b\n",
    "print(v(9,5))"
   ]
  },
  {
   "cell_type": "code",
   "execution_count": 22,
   "id": "356beb30-0e5c-4440-bf8a-d4136cc324bc",
   "metadata": {},
   "outputs": [
    {
     "name": "stdout",
     "output_type": "stream",
     "text": [
      "27\n"
     ]
    }
   ],
   "source": [
    "def cube(t):\n",
    "    return t*t*t\n",
    "print(cube(3))"
   ]
  },
  {
   "cell_type": "code",
   "execution_count": 24,
   "id": "b9269017-3fe2-454c-bb15-6a9aadf3041c",
   "metadata": {},
   "outputs": [
    {
     "name": "stdout",
     "output_type": "stream",
     "text": [
      "27\n"
     ]
    }
   ],
   "source": [
    "c=lambda t:t*t*t\n",
    "print(c(3))"
   ]
  },
  {
   "cell_type": "code",
   "execution_count": 27,
   "id": "09c53c62-9601-4280-a60b-1c3c08889187",
   "metadata": {},
   "outputs": [
    {
     "name": "stdout",
     "output_type": "stream",
     "text": [
      "[2, 6, 8, 15, 30, 35]\n"
     ]
    },
    {
     "data": {
      "text/plain": [
       "[15, 30, 35]"
      ]
     },
     "execution_count": 27,
     "metadata": {},
     "output_type": "execute_result"
    }
   ],
   "source": [
    "age=[2,6,8,15,30,35]\n",
    "print(age)\n",
    "list(filter(lambda x:x>8,age))"
   ]
  },
  {
   "cell_type": "code",
   "execution_count": 29,
   "id": "db5f7ad5-cc6b-4d60-86d1-e010c1e80d3b",
   "metadata": {},
   "outputs": [
    {
     "name": "stdout",
     "output_type": "stream",
     "text": [
      "[9, 10, 12]\n"
     ]
    },
    {
     "data": {
      "text/plain": [
       "[9, 10, 12]"
      ]
     },
     "execution_count": 29,
     "metadata": {},
     "output_type": "execute_result"
    }
   ],
   "source": [
    "age=[9,10,12]\n",
    "print(age)\n",
    "list(filter(lambda x:x>8,age))"
   ]
  },
  {
   "cell_type": "code",
   "execution_count": 30,
   "id": "f11295c6-5053-4c44-918c-c4d99592a044",
   "metadata": {},
   "outputs": [
    {
     "name": "stdout",
     "output_type": "stream",
     "text": [
      "[9, 10, 12]\n"
     ]
    },
    {
     "data": {
      "text/plain": [
       "[10, 11, 13]"
      ]
     },
     "execution_count": 30,
     "metadata": {},
     "output_type": "execute_result"
    }
   ],
   "source": [
    "age=[9,10,12]\n",
    "print(age)\n",
    "list(map(lambda x:x+1,age))"
   ]
  },
  {
   "cell_type": "code",
   "execution_count": 32,
   "id": "c51abc71-ff5c-4c30-a81d-c99d0242018c",
   "metadata": {},
   "outputs": [
    {
     "name": "stdout",
     "output_type": "stream",
     "text": [
      "[9, 10, 12]\n"
     ]
    },
    {
     "data": {
      "text/plain": [
       "31"
      ]
     },
     "execution_count": 32,
     "metadata": {},
     "output_type": "execute_result"
    }
   ],
   "source": [
    "import functools\n",
    "age=[9,10,12]\n",
    "print(age)\n",
    "functools.reduce(lambda x,y:x+y,age)"
   ]
  },
  {
   "cell_type": "code",
   "execution_count": 3,
   "id": "e36e51bd-cc84-46fa-a1b3-3b957d38da25",
   "metadata": {},
   "outputs": [
    {
     "name": "stdin",
     "output_type": "stream",
     "text": [
      "Enter value of a:  13\n"
     ]
    },
    {
     "name": "stdout",
     "output_type": "stream",
     "text": [
      "1.0\n",
      "Exception Handledd\n"
     ]
    }
   ],
   "source": [
    "a=int(input('Enter value of a: '))    \n",
    "try: \n",
    "    b=13/a\n",
    "    print(b)\n",
    "except Exception as e:\n",
    "    print(\"Value of a should not be equal to zero\")\n",
    "finally:\n",
    "    print('Exception Handledd')"
   ]
  },
  {
   "cell_type": "code",
   "execution_count": 4,
   "id": "8bc70489-1e7d-45ad-962e-d3a1c3708406",
   "metadata": {},
   "outputs": [
    {
     "name": "stdin",
     "output_type": "stream",
     "text": [
      "Enter value of a:  13\n"
     ]
    },
    {
     "name": "stdout",
     "output_type": "stream",
     "text": [
      "1.0\n",
      "No exception exist\n",
      "Exception Handledd\n"
     ]
    }
   ],
   "source": [
    "a=int(input('Enter value of a: '))    \n",
    "try: \n",
    "    b=13/a\n",
    "    print(b)\n",
    "except Exception as e:\n",
    "    print(\"Value of a should not be equal to zero\")\n",
    "else:\n",
    "    print('No exception exist')\n",
    "finally:\n",
    "    print('Exception Handledd')"
   ]
  },
  {
   "cell_type": "code",
   "execution_count": 5,
   "id": "3fc8ac7b-0df6-40f9-a618-81788180dc62",
   "metadata": {},
   "outputs": [
    {
     "name": "stdin",
     "output_type": "stream",
     "text": [
      "Enter value of a:  0\n"
     ]
    },
    {
     "name": "stdout",
     "output_type": "stream",
     "text": [
      "Exception Handledd\n"
     ]
    },
    {
     "ename": "ZeroDivisionError",
     "evalue": "division by zero",
     "output_type": "error",
     "traceback": [
      "\u001b[1;31m---------------------------------------------------------------------------\u001b[0m",
      "\u001b[1;31mZeroDivisionError\u001b[0m                         Traceback (most recent call last)",
      "Cell \u001b[1;32mIn[5], line 3\u001b[0m\n\u001b[0;32m      1\u001b[0m a\u001b[38;5;241m=\u001b[39m\u001b[38;5;28mint\u001b[39m(\u001b[38;5;28minput\u001b[39m(\u001b[38;5;124m'\u001b[39m\u001b[38;5;124mEnter value of a: \u001b[39m\u001b[38;5;124m'\u001b[39m))    \n\u001b[0;32m      2\u001b[0m \u001b[38;5;28;01mtry\u001b[39;00m: \n\u001b[1;32m----> 3\u001b[0m     b\u001b[38;5;241m=\u001b[39m\u001b[38;5;241;43m13\u001b[39;49m\u001b[38;5;241;43m/\u001b[39;49m\u001b[43ma\u001b[49m\n\u001b[0;32m      4\u001b[0m     \u001b[38;5;28mprint\u001b[39m(b)\n\u001b[0;32m      5\u001b[0m \u001b[38;5;28;01mexcept\u001b[39;00m \u001b[38;5;167;01mValueError\u001b[39;00m:\n",
      "\u001b[1;31mZeroDivisionError\u001b[0m: division by zero"
     ]
    }
   ],
   "source": [
    "a=int(input('Enter value of a: '))    \n",
    "try: \n",
    "    b=13/a\n",
    "    print(b)\n",
    "except ValueError:\n",
    "    print(\"Value of a should not be equal to zero\")\n",
    "else:\n",
    "    print('No exception exist')\n",
    "finally:\n",
    "    print('Exception Handledd')\n"
   ]
  },
  {
   "cell_type": "code",
   "execution_count": 7,
   "id": "7a2f9c5e-ad73-4242-8667-261270f576db",
   "metadata": {},
   "outputs": [
    {
     "name": "stdin",
     "output_type": "stream",
     "text": [
      "Enter value of a:  0\n"
     ]
    },
    {
     "name": "stdout",
     "output_type": "stream",
     "text": [
      "Exception occurs\n",
      "Exception Handledd\n"
     ]
    }
   ],
   "source": [
    "a=int(input('Enter value of a: '))    \n",
    "try: \n",
    "    b=13/a\n",
    "    print(b)\n",
    "except ValueError:\n",
    "    print(\"Value of a should not be equal to zero\")\n",
    "#except ZeroDivisionError:\n",
    "#    print(\"Value of a should not be equal to zero\")\n",
    "except Exception as e:\n",
    "    print(\"Exception occurs\")\n",
    "else:\n",
    "    print('No exception exist')\n",
    "finally:\n",
    "    print('Exception Handledd')"
   ]
  },
  {
   "cell_type": "code",
   "execution_count": null,
   "id": "d50dcb70-9600-4017-9d2f-4152ca899f87",
   "metadata": {},
   "outputs": [],
   "source": []
  }
 ],
 "metadata": {
  "kernelspec": {
   "display_name": "Python 3 (ipykernel)",
   "language": "python",
   "name": "python3"
  },
  "language_info": {
   "codemirror_mode": {
    "name": "ipython",
    "version": 3
   },
   "file_extension": ".py",
   "mimetype": "text/x-python",
   "name": "python",
   "nbconvert_exporter": "python",
   "pygments_lexer": "ipython3",
   "version": "3.9.13"
  }
 },
 "nbformat": 4,
 "nbformat_minor": 5
}
