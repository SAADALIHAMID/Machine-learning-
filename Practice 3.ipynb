{
 "cells": [
  {
   "cell_type": "code",
   "execution_count": 1,
   "id": "92f733b0-f8e7-409d-bf7f-383653efad7c",
   "metadata": {},
   "outputs": [
    {
     "name": "stdout",
     "output_type": "stream",
     "text": [
      "False\n"
     ]
    }
   ],
   "source": [
    "print(2>3>5<10)"
   ]
  },
  {
   "cell_type": "code",
   "execution_count": 3,
   "id": "095154d4-dec7-47dd-b7ff-72225f0c7755",
   "metadata": {},
   "outputs": [
    {
     "name": "stdout",
     "output_type": "stream",
     "text": [
      "True\n"
     ]
    }
   ],
   "source": [
    "print(2<3<5<10)"
   ]
  },
  {
   "cell_type": "code",
   "execution_count": 6,
   "id": "85152ccd-0fea-45f4-9cdc-560257643431",
   "metadata": {},
   "outputs": [
    {
     "name": "stdin",
     "output_type": "stream",
     "text": [
      "Enter price:  23\n"
     ]
    },
    {
     "name": "stdout",
     "output_type": "stream",
     "text": [
      "23\n",
      "<class 'str'>\n",
      "235\n"
     ]
    }
   ],
   "source": [
    "x=input(\"Enter price: \")\n",
    "print(x)\n",
    "print(type(x))\n",
    "print(x+'5')"
   ]
  },
  {
   "cell_type": "code",
   "execution_count": 8,
   "id": "337debb4-ea56-4636-b9db-7869eea4e8db",
   "metadata": {},
   "outputs": [
    {
     "name": "stdin",
     "output_type": "stream",
     "text": [
      "Enter price:  23\n"
     ]
    },
    {
     "name": "stdout",
     "output_type": "stream",
     "text": [
      "23\n",
      "<class 'int'>\n",
      "28\n"
     ]
    }
   ],
   "source": [
    "x=int(input(\"Enter price: \"))\n",
    "print(x)\n",
    "print(type(x))\n",
    "print(x+5)"
   ]
  },
  {
   "cell_type": "code",
   "execution_count": 9,
   "id": "3d74f4e9-951e-4c26-885b-c63bc6648ad1",
   "metadata": {},
   "outputs": [
    {
     "name": "stdout",
     "output_type": "stream",
     "text": [
      "True\n"
     ]
    }
   ],
   "source": [
    "a='gamma'\n",
    "b='Gamma'\n",
    "print(a>b)"
   ]
  },
  {
   "cell_type": "code",
   "execution_count": 10,
   "id": "ccca3251-4bb3-4eb1-b625-b44f50c0134d",
   "metadata": {},
   "outputs": [
    {
     "name": "stdout",
     "output_type": "stream",
     "text": [
      "False\n"
     ]
    }
   ],
   "source": [
    "a='gamma'\n",
    "b='Gamma'\n",
    "print(a<b)"
   ]
  },
  {
   "cell_type": "code",
   "execution_count": 11,
   "id": "cdc86309-4510-48de-bd51-82a5bc185c04",
   "metadata": {},
   "outputs": [
    {
     "name": "stdout",
     "output_type": "stream",
     "text": [
      "False\n"
     ]
    }
   ],
   "source": [
    "a='Sun'\n",
    "b='Gamma'\n",
    "print(a<b)"
   ]
  },
  {
   "cell_type": "code",
   "execution_count": 12,
   "id": "fd7504e0-abea-4c66-8fc9-5941b99dd38b",
   "metadata": {},
   "outputs": [
    {
     "name": "stdout",
     "output_type": "stream",
     "text": [
      "True\n"
     ]
    }
   ],
   "source": [
    "a='Sun'\n",
    "b='Gamma'\n",
    "print(a>b)"
   ]
  },
  {
   "cell_type": "code",
   "execution_count": 13,
   "id": "4faa00b5-8dde-437f-a7c7-8283388cdaaa",
   "metadata": {},
   "outputs": [
    {
     "name": "stdout",
     "output_type": "stream",
     "text": [
      "3\n"
     ]
    }
   ],
   "source": [
    "i=3\n",
    "if i<4:\n",
    "    print(i)"
   ]
  },
  {
   "cell_type": "code",
   "execution_count": 14,
   "id": "cf467c76-dbda-4bea-a7c3-c73d12462338",
   "metadata": {},
   "outputs": [
    {
     "ename": "IndentationError",
     "evalue": "expected an indented block (4255529066.py, line 3)",
     "output_type": "error",
     "traceback": [
      "\u001b[1;36m  Cell \u001b[1;32mIn[14], line 3\u001b[1;36m\u001b[0m\n\u001b[1;33m    print(i)\u001b[0m\n\u001b[1;37m    ^\u001b[0m\n\u001b[1;31mIndentationError\u001b[0m\u001b[1;31m:\u001b[0m expected an indented block\n"
     ]
    }
   ],
   "source": [
    "i=3\n",
    "if i<4:\n",
    "print(i)"
   ]
  },
  {
   "cell_type": "code",
   "execution_count": 15,
   "id": "9ff31994-8c04-4dcd-a95a-3460852fc9ab",
   "metadata": {},
   "outputs": [
    {
     "name": "stdout",
     "output_type": "stream",
     "text": [
      "3\n"
     ]
    }
   ],
   "source": [
    "i=3\n",
    "if i<4:\n",
    "    pass\n",
    "print(i)"
   ]
  },
  {
   "cell_type": "code",
   "execution_count": 19,
   "id": "fb0e712a-ed06-4c8a-a9d1-8fd08fa7342a",
   "metadata": {},
   "outputs": [
    {
     "name": "stdout",
     "output_type": "stream",
     "text": [
      "3\n",
      "6\n"
     ]
    }
   ],
   "source": [
    "i=3\n",
    "if i<4:\n",
    "    pass\n",
    "    print(i)\n",
    "print(i+3)"
   ]
  },
  {
   "cell_type": "code",
   "execution_count": 24,
   "id": "809a5a9e-657a-4f65-b11e-0230697b75e6",
   "metadata": {},
   "outputs": [],
   "source": [
    "a=3;b=2;c=4\n",
    "if a>b and b>c:\n",
    "    print(a)"
   ]
  },
  {
   "cell_type": "code",
   "execution_count": 25,
   "id": "d4190c87-1212-4d4a-b50b-9ce89c02178e",
   "metadata": {},
   "outputs": [],
   "source": [
    "a=3;b=2;c=4\n",
    "if a>b>c:\n",
    "    print(a)"
   ]
  },
  {
   "cell_type": "code",
   "execution_count": 5,
   "id": "0b9b20bd-ce77-4d8e-add3-930b78511882",
   "metadata": {},
   "outputs": [
    {
     "name": "stdout",
     "output_type": "stream",
     "text": [
      "The price of the product is:  3  dfdf\n",
      "Price of the product is 3 dfdfd\n"
     ]
    }
   ],
   "source": [
    "price=3\n",
    "print(\"The price of the product is: \",price,\" dfdf\")\n",
    "Actual_price=print(f\"Price of the product is {price} dfdfd\")"
   ]
  },
  {
   "cell_type": "code",
   "execution_count": 9,
   "id": "dada1d01-878f-4f06-9d58-2fc32e57dbf1",
   "metadata": {},
   "outputs": [
    {
     "name": "stdin",
     "output_type": "stream",
     "text": [
      "Please enter Product:  Pen\n",
      "Enter the Price of each Pen:  50\n",
      "Enter the Quantity of Pen:  10\n"
     ]
    }
   ],
   "source": [
    "product=input(\"Please enter Product: \")    # pencil\n",
    "price=int(input(f\"Enter the Price of each {product}: \"))  #10\n",
    "qty=int(input(f\"Enter the Quantity of {product}: \"))  #10\n",
    "discount=0.10\n",
    "a_price=qty*price   # 100\n",
    "if a_price>1000:\n",
    "    a_dis=a_price*discount\n",
    "    total=a_price-a_dis\n",
    "    print(f\"Total bill is: {total}\")    "
   ]
  },
  {
   "cell_type": "code",
   "execution_count": 10,
   "id": "18a3bdf4-fc9f-40f5-8628-37060cd7740a",
   "metadata": {},
   "outputs": [
    {
     "name": "stdin",
     "output_type": "stream",
     "text": [
      "Please enter Product:  pencil\n",
      "Enter the Price of each pencil:  10\n",
      "Enter the Quantity of pencil:  10\n"
     ]
    },
    {
     "name": "stdout",
     "output_type": "stream",
     "text": [
      "Total bill is: 100\n"
     ]
    }
   ],
   "source": [
    "product=input(\"Please enter Product: \")    # pencil\n",
    "price=int(input(f\"Enter the Price of each {product}: \"))  #10\n",
    "qty=int(input(f\"Enter the Quantity of {product}: \"))  #10\n",
    "discount=0.10\n",
    "a_price=qty*price   # 100\n",
    "if a_price>1000:\n",
    "    a_dis=a_price*discount\n",
    "    total=a_price-a_dis\n",
    "    print(f\"Total bill is: {total}\")\n",
    "else:\n",
    "    print(f\"Total bill is: {a_price}\")"
   ]
  },
  {
   "cell_type": "code",
   "execution_count": 11,
   "id": "b08f3763-f455-4701-adbd-91212ff19cfd",
   "metadata": {},
   "outputs": [
    {
     "name": "stdout",
     "output_type": "stream",
     "text": [
      "Even Number\n"
     ]
    }
   ],
   "source": [
    "a=20\n",
    "if a%2==0:\n",
    "    print(\"Even Number\")\n",
    "else:\n",
    "    print(\"Odd Number\")"
   ]
  },
  {
   "cell_type": "code",
   "execution_count": 12,
   "id": "27ef3865-3228-41f9-9995-90cba778fa90",
   "metadata": {},
   "outputs": [
    {
     "name": "stdout",
     "output_type": "stream",
     "text": [
      "Even Number\n"
     ]
    }
   ],
   "source": [
    "a=20\n",
    "print(\"Even Number\") if a%2==0 else print(\"Odd Number\")"
   ]
  },
  {
   "cell_type": "code",
   "execution_count": 13,
   "id": "37eae5c9-13c7-4e26-9bb9-76045d9313db",
   "metadata": {},
   "outputs": [
    {
     "name": "stdout",
     "output_type": "stream",
     "text": [
      "Even Number\n"
     ]
    }
   ],
   "source": [
    "a=20; print(\"Even Number\") if a%2==0 else print(\"Odd Number\")"
   ]
  },
  {
   "cell_type": "code",
   "execution_count": 14,
   "id": "b747d040-fd67-4a56-a24c-42eaac5cd940",
   "metadata": {},
   "outputs": [
    {
     "name": "stdout",
     "output_type": "stream",
     "text": [
      "Yes Book is Available\n"
     ]
    }
   ],
   "source": [
    "Books=['Data Science',\"ML\",\"DL\",\"LLM\"]\n",
    "if \"Data Science\" in Books:\n",
    "    print(\"Yes Book is Available\")\n",
    "else: \n",
    "    print(\"Book is not Availabe\")"
   ]
  },
  {
   "cell_type": "code",
   "execution_count": 15,
   "id": "08ae8118-8a7a-45ec-8153-28bc30cf23e4",
   "metadata": {},
   "outputs": [
    {
     "name": "stdout",
     "output_type": "stream",
     "text": [
      "Book is not Availabe\n"
     ]
    }
   ],
   "source": [
    "Books=['Data Science',\"ML\",\"DL\",\"LLM\"]\n",
    "print(\"Yes Book is Available\") if \"Data  Science\" in Books else print(\"Book is not Availabe\")"
   ]
  },
  {
   "cell_type": "code",
   "execution_count": 16,
   "id": "5e6dbb11-e9b0-4aa8-af27-471f02647d27",
   "metadata": {},
   "outputs": [
    {
     "name": "stdout",
     "output_type": "stream",
     "text": [
      "Yes Book is Available\n"
     ]
    }
   ],
   "source": [
    "Books=['Data Science',\"ML\",\"DL\",\"LLM\"]\n",
    "if \"Data Science\" and \"ML\" in Books:\n",
    "    print(\"Yes Book is Available\")\n",
    "else: \n",
    "    print(\"Book is not Availabe\")"
   ]
  },
  {
   "cell_type": "code",
   "execution_count": 17,
   "id": "ac4e9bb6-31eb-40b7-9c42-e2ac2dc57a88",
   "metadata": {},
   "outputs": [
    {
     "name": "stdout",
     "output_type": "stream",
     "text": [
      "Yes Book is Available\n"
     ]
    }
   ],
   "source": [
    "Books=['Data Science',\"ML\",\"DL\",\"LLM\"]\n",
    "if \"Data Science\" or \"MLe\" in Books:\n",
    "    print(\"Yes Book is Available\")\n",
    "else: \n",
    "    print(\"Book is not Availabe\")"
   ]
  },
  {
   "cell_type": "code",
   "execution_count": 18,
   "id": "53ea5a8f-0cbf-49ab-a846-277d71b50054",
   "metadata": {},
   "outputs": [
    {
     "name": "stdin",
     "output_type": "stream",
     "text": [
      "Enter Student Percentage:  75\n"
     ]
    },
    {
     "name": "stdout",
     "output_type": "stream",
     "text": [
      "B+\n",
      "B\n"
     ]
    }
   ],
   "source": [
    "'''\n",
    "per > 90 A+\n",
    "per > 80 A\n",
    "per > 70 B+\n",
    "per > 60 B\n",
    "otherwise Fail\n",
    "'''\n",
    "per=int(input(\"Enter Student Percentage: \"))\n",
    "if per>90:\n",
    "    print('A+')\n",
    "if per>80:\n",
    "    print('A')\n",
    "if per>70:\n",
    "    print('B+')\n",
    "if per>60:\n",
    "    print('B')\n",
    "else:\n",
    "    print('Fail')"
   ]
  },
  {
   "cell_type": "code",
   "execution_count": 19,
   "id": "c75f4399-bc2e-4d03-84f4-89e7bf9bec74",
   "metadata": {},
   "outputs": [
    {
     "name": "stdin",
     "output_type": "stream",
     "text": [
      "Enter Student Percentage:  75\n"
     ]
    },
    {
     "name": "stdout",
     "output_type": "stream",
     "text": [
      "B+\n"
     ]
    }
   ],
   "source": [
    "'''\n",
    "per > 90 A+\n",
    "per > 80 A\n",
    "per > 70 B+\n",
    "per > 60 B\n",
    "otherwise Fail\n",
    "'''\n",
    "per=int(input(\"Enter Student Percentage: \"))\n",
    "if per>90:\n",
    "    print('A+')\n",
    "elif per>80:\n",
    "    print('A')\n",
    "elif per>70:\n",
    "    print('B+')\n",
    "elif per>60:\n",
    "    print('B')\n",
    "else:\n",
    "    print('Fail')"
   ]
  },
  {
   "cell_type": "code",
   "execution_count": 21,
   "id": "a36d969b-be7b-45cb-97bd-d9e5bd1a830f",
   "metadata": {},
   "outputs": [
    {
     "name": "stdout",
     "output_type": "stream",
     "text": [
      "Requested topping onion is not available\n",
      "Added mushroom\n",
      "Requested topping extra cheese is not available\n"
     ]
    }
   ],
   "source": [
    "available_toppings=['olives','mushroom','frenchfires']\n",
    "requested_toppings=['onion','mushroom','extra cheese']\n",
    "for v in requested_toppings:\n",
    "    if v in available_toppings:\n",
    "        print(f\"Added {v}\")\n",
    "    else:\n",
    "        print(f\"Requested topping {v} is not available\")"
   ]
  },
  {
   "cell_type": "code",
   "execution_count": null,
   "id": "cc8d3c1e-42bc-4d54-95c5-86bf8185acc6",
   "metadata": {},
   "outputs": [],
   "source": []
  }
 ],
 "metadata": {
  "kernelspec": {
   "display_name": "Python 3 (ipykernel)",
   "language": "python",
   "name": "python3"
  },
  "language_info": {
   "codemirror_mode": {
    "name": "ipython",
    "version": 3
   },
   "file_extension": ".py",
   "mimetype": "text/x-python",
   "name": "python",
   "nbconvert_exporter": "python",
   "pygments_lexer": "ipython3",
   "version": "3.9.13"
  }
 },
 "nbformat": 4,
 "nbformat_minor": 5
}
