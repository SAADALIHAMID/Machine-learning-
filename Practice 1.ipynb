{
 "cells": [
  {
   "cell_type": "code",
   "execution_count": 1,
   "id": "bc842112-9f96-499d-9af5-bd5a1723a354",
   "metadata": {},
   "outputs": [
    {
     "name": "stdout",
     "output_type": "stream",
     "text": [
      "Hello World\n"
     ]
    }
   ],
   "source": [
    "print(\"Hello World\")"
   ]
  },
  {
   "cell_type": "code",
   "execution_count": 2,
   "id": "66851adb-5abc-48f0-bea9-441b7356ac53",
   "metadata": {},
   "outputs": [
    {
     "name": "stdout",
     "output_type": "stream",
     "text": [
      "For A\n",
      "1893859590416\n",
      "<class 'int'>\n",
      "For B\n",
      "1893859590416\n",
      "<class 'int'>\n",
      "4\n",
      "1893859590480\n",
      "<class 'int'>\n"
     ]
    }
   ],
   "source": [
    "a=2\n",
    "b=2\n",
    "print(\"For A\")\n",
    "print(id(a))\n",
    "print(type(a))\n",
    "print(\"For B\")\n",
    "print(id(b))\n",
    "print(type(b))\n",
    "a=4\n",
    "print(a)\n",
    "print(id(a))\n",
    "print(type(a))"
   ]
  },
  {
   "cell_type": "code",
   "execution_count": 3,
   "id": "0d2dea1b-968b-4deb-ba53-96aaa83c1456",
   "metadata": {},
   "outputs": [
    {
     "name": "stdout",
     "output_type": "stream",
     "text": [
      "2\n",
      "<class 'int'>\n",
      "1.0\n",
      "<class 'float'>\n",
      "Jtech\n",
      "<class 'str'>\n"
     ]
    }
   ],
   "source": [
    "a=2\n",
    "b=1.0\n",
    "c=\"Jtech\"\n",
    "print(a)\n",
    "print(type(a))\n",
    "print(b)\n",
    "print(type(b))\n",
    "print(c)\n",
    "print(type(c))"
   ]
  },
  {
   "cell_type": "code",
   "execution_count": 5,
   "id": "8dcd93d0-9224-4233-bad1-daab9e278c21",
   "metadata": {},
   "outputs": [
    {
     "ename": "SyntaxError",
     "evalue": "invalid decimal literal (4142709004.py, line 11)",
     "output_type": "error",
     "traceback": [
      "\u001b[1;36m  Cell \u001b[1;32mIn[5], line 11\u001b[1;36m\u001b[0m\n\u001b[1;33m    4sdsdsds\u001b[0m\n\u001b[1;37m    ^\u001b[0m\n\u001b[1;31mSyntaxError\u001b[0m\u001b[1;31m:\u001b[0m invalid decimal literal\n"
     ]
    }
   ],
   "source": [
    "a=2\n",
    "b=1.0\n",
    "c=\"Jtech\"\n",
    "print(a)\n",
    "print(type(a))\n",
    "print(b)\n",
    "print(type(b))\n",
    "print(c)\n",
    "print(type(c))\n",
    "\n",
    "4sdsdsds"
   ]
  },
  {
   "cell_type": "code",
   "execution_count": 6,
   "id": "1fde759d-abdc-4f5e-8d99-907b30263c83",
   "metadata": {},
   "outputs": [
    {
     "name": "stdout",
     "output_type": "stream",
     "text": [
      "5\n"
     ]
    }
   ],
   "source": [
    "a=2\n",
    "b=3\n",
    "print(a+b)"
   ]
  },
  {
   "cell_type": "code",
   "execution_count": 7,
   "id": "f2054bd4-4889-4db4-8972-42da84efc86e",
   "metadata": {},
   "outputs": [
    {
     "name": "stdout",
     "output_type": "stream",
     "text": [
      "Jtech\n"
     ]
    }
   ],
   "source": [
    "a=\"J\"\n",
    "b='tech'\n",
    "print(a+b)"
   ]
  },
  {
   "cell_type": "code",
   "execution_count": 8,
   "id": "930d2967-1a2d-4a32-9bc0-307ba5493a22",
   "metadata": {},
   "outputs": [
    {
     "name": "stdout",
     "output_type": "stream",
     "text": [
      "6\n"
     ]
    }
   ],
   "source": [
    "a=2\n",
    "b=3\n",
    "print(a*b)"
   ]
  },
  {
   "cell_type": "code",
   "execution_count": 9,
   "id": "1f426fca-ca71-4384-bef2-4616c4f4f627",
   "metadata": {},
   "outputs": [
    {
     "name": "stdout",
     "output_type": "stream",
     "text": [
      "JJJ\n"
     ]
    }
   ],
   "source": [
    "a=\"J\"\n",
    "b='tech'\n",
    "print(a*3)"
   ]
  },
  {
   "cell_type": "code",
   "execution_count": null,
   "id": "08a9c380-c061-445f-8a4d-ddb9ce8a48fd",
   "metadata": {},
   "outputs": [],
   "source": [
    "a=1\n",
    "a+=5 # a=a+5\n",
    "a*=5 # a=a*5"
   ]
  },
  {
   "cell_type": "code",
   "execution_count": 10,
   "id": "9a4b3452-0732-418c-a57e-b079e351c2c7",
   "metadata": {},
   "outputs": [
    {
     "name": "stdout",
     "output_type": "stream",
     "text": [
      "3\n",
      "3\n",
      "3\n"
     ]
    }
   ],
   "source": [
    "a=b=c=3\n",
    "print(a)\n",
    "print(b)\n",
    "print(c)"
   ]
  },
  {
   "cell_type": "code",
   "execution_count": 11,
   "id": "8f2d36d5-0f2d-47b9-bfae-eb0b4df53f4c",
   "metadata": {},
   "outputs": [
    {
     "name": "stdout",
     "output_type": "stream",
     "text": [
      "1.0\n",
      "1\n",
      "J\n"
     ]
    }
   ],
   "source": [
    "a,b,c=1.0,1,\"J\"\n",
    "print(a)\n",
    "print(b)\n",
    "print(c)"
   ]
  },
  {
   "cell_type": "code",
   "execution_count": 14,
   "id": "cfa6925e-e180-47dd-8b65-4711020a2d33",
   "metadata": {},
   "outputs": [
    {
     "name": "stdout",
     "output_type": "stream",
     "text": [
      "1.0\n",
      "1\n",
      "J\n"
     ]
    }
   ],
   "source": [
    "a,b,_=1.0,1,\"J\"\n",
    "print(a)\n",
    "print(b)\n",
    "print(_)"
   ]
  },
  {
   "cell_type": "code",
   "execution_count": 5,
   "id": "8a9789fb-3979-48ca-9fa2-d2476a60fc26",
   "metadata": {},
   "outputs": [
    {
     "name": "stdout",
     "output_type": "stream",
     "text": [
      "11\n"
     ]
    }
   ],
   "source": [
    "a = 3 + 1 + \\\n",
    "3 + 4 \n",
    "print(a)"
   ]
  },
  {
   "cell_type": "code",
   "execution_count": 7,
   "id": "15a2bb16-dada-4cff-b9b7-c26c904fd74d",
   "metadata": {},
   "outputs": [
    {
     "name": "stdout",
     "output_type": "stream",
     "text": [
      "3\n",
      "3\n"
     ]
    }
   ],
   "source": [
    "a=3\n",
    "b=3\n",
    "print(a)\n",
    "print(b)"
   ]
  },
  {
   "cell_type": "code",
   "execution_count": 10,
   "id": "a6e56136-defc-46b4-94ec-e56f7e2e33bd",
   "metadata": {},
   "outputs": [
    {
     "name": "stdout",
     "output_type": "stream",
     "text": [
      "Value of a:  3  Value of b:  3\n"
     ]
    }
   ],
   "source": [
    "a=3\n",
    "b=3\n",
    "print(\"Value of a: \",a, \" Value of b: \",b)\n"
   ]
  },
  {
   "cell_type": "code",
   "execution_count": 17,
   "id": "3c50f764-68e7-4f9c-8cbb-a810721f54ad",
   "metadata": {},
   "outputs": [
    {
     "name": "stdout",
     "output_type": "stream",
     "text": [
      "3 3\n"
     ]
    }
   ],
   "source": [
    "a=3\n",
    "b=3\n",
    "print(a, end=\" \")\n",
    "print(b)"
   ]
  },
  {
   "cell_type": "code",
   "execution_count": 15,
   "id": "8b854bbe-edb4-463c-b2d3-c4fbbc5f39ea",
   "metadata": {},
   "outputs": [
    {
     "name": "stdin",
     "output_type": "stream",
     "text": [
      "Please enter the value of b:  44\n"
     ]
    },
    {
     "name": "stdout",
     "output_type": "stream",
     "text": [
      "44\n"
     ]
    }
   ],
   "source": [
    "b=input(\"Please enter the value of b: \")\n",
    "print(b)"
   ]
  },
  {
   "cell_type": "code",
   "execution_count": null,
   "id": "80c28530-b37b-4929-8baf-ed678429c74c",
   "metadata": {},
   "outputs": [],
   "source": []
  }
 ],
 "metadata": {
  "kernelspec": {
   "display_name": "Python 3 (ipykernel)",
   "language": "python",
   "name": "python3"
  },
  "language_info": {
   "codemirror_mode": {
    "name": "ipython",
    "version": 3
   },
   "file_extension": ".py",
   "mimetype": "text/x-python",
   "name": "python",
   "nbconvert_exporter": "python",
   "pygments_lexer": "ipython3",
   "version": "3.10.2"
  }
 },
 "nbformat": 4,
 "nbformat_minor": 5
}
