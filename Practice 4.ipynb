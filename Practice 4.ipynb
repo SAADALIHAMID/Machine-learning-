{
 "cells": [
  {
   "cell_type": "code",
   "execution_count": 1,
   "id": "2b58e7b7-db56-487e-8714-cc929962bd71",
   "metadata": {},
   "outputs": [
    {
     "name": "stdout",
     "output_type": "stream",
     "text": [
      "[3, 6, 2]\n"
     ]
    }
   ],
   "source": [
    "lis=[3,6,2,1,4]\n",
    "print(lis[0:3])"
   ]
  },
  {
   "cell_type": "code",
   "execution_count": 2,
   "id": "6ab26863-2413-479f-bfa6-abfba3f03ab2",
   "metadata": {},
   "outputs": [
    {
     "name": "stdout",
     "output_type": "stream",
     "text": [
      "[3, 6, 2, 1, 4]\n"
     ]
    }
   ],
   "source": [
    "lis=[3,6,2,1,4]\n",
    "print(lis[0:])"
   ]
  },
  {
   "cell_type": "code",
   "execution_count": 4,
   "id": "670196d8-7c41-4d73-868d-a35f1e57a5c4",
   "metadata": {},
   "outputs": [
    {
     "name": "stdout",
     "output_type": "stream",
     "text": [
      "[3, 2, 4]\n"
     ]
    }
   ],
   "source": [
    "lis=[3,6,2,1,4]\n",
    "print(lis[0:5:2])   #(start,stop,step)"
   ]
  },
  {
   "cell_type": "code",
   "execution_count": 7,
   "id": "9e0f92b5-fbd5-4ce2-b1cc-fc1dc558b332",
   "metadata": {},
   "outputs": [
    {
     "name": "stdout",
     "output_type": "stream",
     "text": [
      "[4, 1, 2, 6, 3]\n"
     ]
    }
   ],
   "source": [
    "lis=[3,6,2,1,4]\n",
    "print(lis[5::-1])"
   ]
  },
  {
   "cell_type": "code",
   "execution_count": 8,
   "id": "6a52494a-7361-4ee7-a4bc-c6bbdd79034a",
   "metadata": {},
   "outputs": [
    {
     "name": "stdout",
     "output_type": "stream",
     "text": [
      "2\n",
      "4\n"
     ]
    }
   ],
   "source": [
    "a,b=2,4\n",
    "print(a)\n",
    "print(b)"
   ]
  },
  {
   "cell_type": "code",
   "execution_count": 9,
   "id": "86690de1-e8eb-4482-8a7f-90eb377db511",
   "metadata": {},
   "outputs": [
    {
     "name": "stdout",
     "output_type": "stream",
     "text": [
      "16\n"
     ]
    }
   ],
   "source": [
    "lis=[3,6,2,1,4]\n",
    "print(sum(lis))"
   ]
  },
  {
   "cell_type": "code",
   "execution_count": 12,
   "id": "0ac4ffa1-b9dc-43b8-94b3-e9c5478ea926",
   "metadata": {},
   "outputs": [
    {
     "name": "stdout",
     "output_type": "stream",
     "text": [
      "0\n",
      "1\n",
      "2\n"
     ]
    }
   ],
   "source": [
    "for x in range(3):\n",
    "    print(x)"
   ]
  },
  {
   "cell_type": "code",
   "execution_count": 13,
   "id": "b4e70c90-0958-451f-83f4-67e9bf254903",
   "metadata": {},
   "outputs": [
    {
     "name": "stdout",
     "output_type": "stream",
     "text": [
      "0\n",
      "1\n",
      "2\n"
     ]
    }
   ],
   "source": [
    "for x in range(0,3):\n",
    "    print(x)"
   ]
  },
  {
   "cell_type": "code",
   "execution_count": 14,
   "id": "7fe65a27-0390-4e0e-8658-7d046ca21c1c",
   "metadata": {},
   "outputs": [
    {
     "name": "stdout",
     "output_type": "stream",
     "text": [
      "1\n",
      "2\n"
     ]
    }
   ],
   "source": [
    "for x in range(1,3):\n",
    "    print(x)"
   ]
  },
  {
   "cell_type": "code",
   "execution_count": 16,
   "id": "c2d8e5fa-e1bc-453c-8428-fd967cc4183d",
   "metadata": {},
   "outputs": [
    {
     "name": "stdout",
     "output_type": "stream",
     "text": [
      "1\n",
      "2\n",
      "3\n",
      "4\n",
      "5\n",
      "6\n",
      "7\n",
      "8\n",
      "9\n"
     ]
    }
   ],
   "source": [
    "for x in range(1,10): #(start,stop)\n",
    "    print(x)"
   ]
  },
  {
   "cell_type": "code",
   "execution_count": 15,
   "id": "59b8ed34-89b2-4224-98df-21f0b85f5c34",
   "metadata": {},
   "outputs": [
    {
     "name": "stdout",
     "output_type": "stream",
     "text": [
      "1\n",
      "3\n",
      "5\n",
      "7\n",
      "9\n"
     ]
    }
   ],
   "source": [
    "for x in range(1,10,2): #(start,stop,step)\n",
    "    print(x)"
   ]
  },
  {
   "cell_type": "code",
   "execution_count": 17,
   "id": "424ad0d3-7896-4b6b-9cf4-f5bd9e971d8e",
   "metadata": {},
   "outputs": [
    {
     "name": "stdout",
     "output_type": "stream",
     "text": [
      "10\n",
      "9\n",
      "8\n",
      "7\n",
      "6\n",
      "5\n",
      "4\n",
      "3\n",
      "2\n",
      "1\n"
     ]
    }
   ],
   "source": [
    "for x in range(10,0,-1): #(start,stop,step)\n",
    "    print(x)"
   ]
  },
  {
   "cell_type": "code",
   "execution_count": 18,
   "id": "eab948d8-a247-4390-b423-3d93fbcf8708",
   "metadata": {},
   "outputs": [
    {
     "name": "stdout",
     "output_type": "stream",
     "text": [
      "1\n",
      "2\n",
      "3\n",
      "4\n",
      "5\n",
      "6\n",
      "7\n",
      "8\n",
      "9\n",
      "10\n"
     ]
    }
   ],
   "source": [
    "for x in range(1,11): #(start,stop,step)\n",
    "    print(x)"
   ]
  },
  {
   "cell_type": "code",
   "execution_count": 19,
   "id": "9a1fee42-94f7-4769-8419-ced41884578e",
   "metadata": {},
   "outputs": [
    {
     "name": "stdout",
     "output_type": "stream",
     "text": [
      "Ali Raza\n",
      "Ahmad\n"
     ]
    }
   ],
   "source": [
    "dict={\n",
    "    'Ali Raza':[80,60,95,50],\n",
    "    'Ahmad':[80,90,60,45]\n",
    "}\n",
    "\n",
    "sum1=0;\n",
    "sum2=0;\n",
    "\n",
    "for k in dict:\n",
    "    print(k)"
   ]
  },
  {
   "cell_type": "code",
   "execution_count": 20,
   "id": "40b86cc9-b467-4a8a-976e-15e52829543b",
   "metadata": {},
   "outputs": [
    {
     "name": "stdout",
     "output_type": "stream",
     "text": [
      "('Ali Raza', [80, 60, 95, 50])\n",
      "('Ahmad', [80, 90, 60, 45])\n"
     ]
    }
   ],
   "source": [
    "dict={\n",
    "    'Ali Raza':[80,60,95,50],\n",
    "    'Ahmad':[80,90,60,45]\n",
    "}\n",
    "\n",
    "sum1=0;\n",
    "sum2=0;\n",
    "\n",
    "for k in dict.items():\n",
    "    print(k)"
   ]
  },
  {
   "cell_type": "code",
   "execution_count": 21,
   "id": "2b4b488a-3167-4d3c-b708-f0a838d5fe80",
   "metadata": {},
   "outputs": [
    {
     "name": "stdout",
     "output_type": "stream",
     "text": [
      "Ali Raza\n",
      "[80, 60, 95, 50]\n",
      "Ahmad\n",
      "[80, 90, 60, 45]\n"
     ]
    }
   ],
   "source": [
    "dict={\n",
    "    'Ali Raza':[80,60,95,50],\n",
    "    'Ahmad':[80,90,60,45]\n",
    "}\n",
    "\n",
    "sum1=0;\n",
    "sum2=0;\n",
    "\n",
    "for k,v in dict.items():\n",
    "    print(k)\n",
    "    print(v)"
   ]
  },
  {
   "cell_type": "code",
   "execution_count": 23,
   "id": "2deb50fe-d83e-437d-9583-dc7e6227bff2",
   "metadata": {},
   "outputs": [
    {
     "name": "stdout",
     "output_type": "stream",
     "text": [
      "Average Marks of Ali Raza is 71.25\n",
      "Average Marks of Ahmad is 68.75\n"
     ]
    }
   ],
   "source": [
    "dict={\n",
    "    'Ali Raza':[80,60,95,50],\n",
    "    'Ahmad':[80,90,60,45]\n",
    "}\n",
    "\n",
    "sum1=0\n",
    "sum2=0\n",
    "avg1=0\n",
    "avg2=0\n",
    "for k,v in dict.items():\n",
    "    for e in v:\n",
    "        if (k=='Ali Raza'):\n",
    "            sum1+=e\n",
    "        elif (k=='Ahmad'):\n",
    "            sum2+=e\n",
    "    if (k=='Ali Raza'):\n",
    "        avg1=sum1/len(v)\n",
    "        print(f\"Average Marks of {k} is {avg1}\")\n",
    "    elif (k=='Ahmad'):\n",
    "        avg2=sum2/len(v)\n",
    "        print(f\"Average Marks of {k} is {avg2}\")\n"
   ]
  },
  {
   "cell_type": "code",
   "execution_count": 26,
   "id": "1a864fd3-176f-460d-8dba-549dd3e11e42",
   "metadata": {},
   "outputs": [
    {
     "name": "stdout",
     "output_type": "stream",
     "text": [
      "Average Marks of Ali Raza is 71.25\n",
      "Average Marks of Ahmad is 68.75\n"
     ]
    }
   ],
   "source": [
    "dict={\n",
    "    'Ali Raza':[80,60,95,50],\n",
    "    'Ahmad':[80,90,60,45]\n",
    "}\n",
    "\n",
    "sum1=0\n",
    "sum2=0\n",
    "avg1=0\n",
    "avg2=0\n",
    "for k,v in dict.items():\n",
    "    if (k=='Ali Raza'):\n",
    "        sum1+=sum(v)\n",
    "    elif (k=='Ahmad'):\n",
    "        sum2+=sum(v)\n",
    "    if (k=='Ali Raza'):\n",
    "        avg1=sum1/len(v)\n",
    "        print(f\"Average Marks of {k} is {avg1}\")\n",
    "    elif (k=='Ahmad'):\n",
    "        avg2=sum2/len(v)\n",
    "        print(f\"Average Marks of {k} is {avg2}\")\n"
   ]
  },
  {
   "cell_type": "code",
   "execution_count": 2,
   "id": "e5c1bbca-30e9-47d4-bce2-1de5bd6ca384",
   "metadata": {},
   "outputs": [
    {
     "name": "stdout",
     "output_type": "stream",
     "text": [
      "{'Ali Raza': 285, 'Ahmad': 275}\n"
     ]
    }
   ],
   "source": [
    "data={\n",
    "    'Ali Raza':[80,60,95,50],\n",
    "    'Ahmad':[80,90,60,45]\n",
    "}\n",
    "\n",
    "sums={}\n",
    "for k,v in data.items():\n",
    "    sums[k]=sum(v)    #{'Ali Raza':sum(v),'Ahmad':sum(v)}\n",
    "print(sums)"
   ]
  },
  {
   "cell_type": "code",
   "execution_count": 6,
   "id": "9f6db0f2-4b0a-4c99-9a06-35212f16e24a",
   "metadata": {},
   "outputs": [
    {
     "name": "stdout",
     "output_type": "stream",
     "text": [
      "Ali Raza average is : 71.25\n",
      "Ahmad average is : 68.75\n"
     ]
    }
   ],
   "source": [
    "data={\n",
    "    'Ali Raza':[80,60,95,50],\n",
    "    'Ahmad':[80,90,60,45]\n",
    "}\n",
    "\n",
    "sums={}\n",
    "for k,v in data.items():\n",
    "    sums[k]=sum(v)    #{'Ali Raza':sum(v),'Ahmad':sum(v)}\n",
    "    avg=sums[k]/len(v)\n",
    "    print(f\"{k} average is : {avg}\")"
   ]
  },
  {
   "cell_type": "code",
   "execution_count": 12,
   "id": "b188df57-7e9e-480c-8a10-6d7aba198b00",
   "metadata": {},
   "outputs": [
    {
     "name": "stdout",
     "output_type": "stream",
     "text": [
      "Yes\n",
      "Yes\n",
      "Yes\n",
      "Yes\n"
     ]
    }
   ],
   "source": [
    "for x in range(10):\n",
    "    if (x>5):\n",
    "        print(\"Yes\")"
   ]
  },
  {
   "cell_type": "code",
   "execution_count": 11,
   "id": "3d90a9d6-9e75-4c7f-8bc1-a4410b5d34bf",
   "metadata": {},
   "outputs": [
    {
     "name": "stdout",
     "output_type": "stream",
     "text": [
      "yes\n",
      "yes\n",
      "yes\n",
      "yes\n",
      "[None, None, None, None]\n"
     ]
    }
   ],
   "source": [
    "d=[print('yes') for x in range(10) if (x>5)] #{statement for each loop if condition}\n",
    "print(d)"
   ]
  },
  {
   "cell_type": "code",
   "execution_count": 13,
   "id": "8445619d-9ae2-411c-9d76-6f69bc1b1f58",
   "metadata": {},
   "outputs": [
    {
     "name": "stdout",
     "output_type": "stream",
     "text": [
      "No\n",
      "No\n",
      "No\n",
      "No\n",
      "No\n",
      "No\n",
      "Yes\n",
      "Yes\n",
      "Yes\n",
      "Yes\n"
     ]
    }
   ],
   "source": [
    "for x in range(10):\n",
    "    if (x>5):\n",
    "        print(\"Yes\")\n",
    "    else:\n",
    "        print(\"No\")"
   ]
  },
  {
   "cell_type": "code",
   "execution_count": 14,
   "id": "f759b65d-4fea-4172-8283-bc1bb737f955",
   "metadata": {},
   "outputs": [
    {
     "name": "stdout",
     "output_type": "stream",
     "text": [
      "No\n",
      "No\n",
      "No\n",
      "No\n",
      "No\n",
      "No\n",
      "yes\n",
      "yes\n",
      "yes\n",
      "yes\n",
      "[None, None, None, None, None, None, None, None, None, None]\n"
     ]
    }
   ],
   "source": [
    "d=[print('yes') if (x>5) else print(\"No\") for x in range(10) ]  #{statement if condition else statement for each loop }\n",
    "print(d)"
   ]
  },
  {
   "cell_type": "code",
   "execution_count": 2,
   "id": "d8dab2ed-ba84-4ae4-a778-8a3defe9b8ca",
   "metadata": {},
   "outputs": [
    {
     "name": "stdout",
     "output_type": "stream",
     "text": [
      "['No', 'No', 'No', 'No', 'No', 'No', 'yes', 'yes', 'yes', 'yes']\n"
     ]
    }
   ],
   "source": [
    "d=['yes' if (x>5) else \"No\" for x in range(10) ]  #{statement if condition else statement for each loop }\n",
    "print(d)"
   ]
  },
  {
   "cell_type": "code",
   "execution_count": 1,
   "id": "be6e2a06-7260-4f52-b0b8-9d631e9d97ad",
   "metadata": {},
   "outputs": [
    {
     "name": "stdout",
     "output_type": "stream",
     "text": [
      "No\n",
      "No\n",
      "No\n",
      "No\n",
      "No\n",
      "No\n",
      "yes\n",
      "yes\n",
      "yes\n",
      "yes\n"
     ]
    }
   ],
   "source": [
    "d=('yes' if (x>5) else \"No\" for x in range(10) )  #{statement if condition else statement for each loop }\n",
    "for v in d:\n",
    "    print(v)"
   ]
  },
  {
   "cell_type": "code",
   "execution_count": 1,
   "id": "53025e52-b152-493d-8977-c17f3d742dd4",
   "metadata": {},
   "outputs": [
    {
     "name": "stdout",
     "output_type": "stream",
     "text": [
      "No\n",
      "No\n",
      "No\n",
      "No\n",
      "No\n",
      "No\n",
      "yes\n",
      "yes\n",
      "yes\n",
      "yes\n"
     ]
    }
   ],
   "source": [
    "d=('yes' if (x>5) else \"No\" for x in range(10) )  #{statement if condition else statement for each loop }\n",
    "print(next(d))\n",
    "print(next(d))\n",
    "print(next(d))\n",
    "print(next(d))\n",
    "print(next(d))\n",
    "print(next(d))\n",
    "print(next(d))\n",
    "print(next(d))\n",
    "print(next(d))\n",
    "print(next(d))"
   ]
  },
  {
   "cell_type": "code",
   "execution_count": 1,
   "id": "fa4cefcc-055e-4b7e-988f-5b8d4bba8dd7",
   "metadata": {},
   "outputs": [
    {
     "name": "stdout",
     "output_type": "stream",
     "text": [
      "No\n"
     ]
    }
   ],
   "source": [
    "d=('yes' if (x>5) else \"No\" for x in range(10) )  #{statement if condition else statement for each loop }\n",
    "print(next(d))\n"
   ]
  },
  {
   "cell_type": "code",
   "execution_count": 3,
   "id": "c4a03eef-e8f8-4774-98f2-712a550fa5b4",
   "metadata": {},
   "outputs": [
    {
     "name": "stdout",
     "output_type": "stream",
     "text": [
      "Data is not Found\n"
     ]
    }
   ],
   "source": [
    "a=[2,3,4,5]\n",
    "\n",
    "if any(c>5 for c in a):\n",
    "    print(\"Data is Found\")\n",
    "else:\n",
    "    print(\"Data is not Found\")"
   ]
  },
  {
   "cell_type": "code",
   "execution_count": 6,
   "id": "3c048ebe-4a90-4c6e-8d12-840092a5711c",
   "metadata": {},
   "outputs": [
    {
     "name": "stdout",
     "output_type": "stream",
     "text": [
      "Data is Found\n"
     ]
    }
   ],
   "source": [
    "a=['LG','Nokia','Samsung','Motorolla']\n",
    "\n",
    "if any(c=='Nokia' for c in a):\n",
    "    print(\"Data is Found\")\n",
    "else:\n",
    "    print(\"Data is not Found\")"
   ]
  },
  {
   "cell_type": "code",
   "execution_count": 8,
   "id": "c2e123cb-82d4-4365-b4ce-1ce6b13e5882",
   "metadata": {},
   "outputs": [
    {
     "name": "stdout",
     "output_type": "stream",
     "text": [
      "Data is Found\n"
     ]
    }
   ],
   "source": [
    "a=['LG','Nokia','Samsung','Motorolla']\n",
    "b=['Hp','dELL','Samsung','Mi']\n",
    "\n",
    "if any(c=='Nokia' or x=='Acer' for c in a for x in b):\n",
    "    print(\"Data is Found\")\n",
    "else:\n",
    "    print(\"Data is not Found\")"
   ]
  },
  {
   "cell_type": "code",
   "execution_count": 9,
   "id": "247e31c6-1dd2-43a9-ae29-b2a4b4dc317e",
   "metadata": {},
   "outputs": [
    {
     "name": "stdout",
     "output_type": "stream",
     "text": [
      "Data is not Found\n"
     ]
    }
   ],
   "source": [
    "a=['LG','Nokia','Samsung','Motorolla']\n",
    "b=['Hp','dELL','Samsung','Mi']\n",
    "# any (condition for each loops)\n",
    "if any(c=='Nokia' and x=='Acer' for c in a for x in b):  # any is iterable\n",
    "    print(\"Data is Found\")\n",
    "else:\n",
    "    print(\"Data is not Found\")"
   ]
  },
  {
   "cell_type": "code",
   "execution_count": 14,
   "id": "ac62f05d-357d-4edf-87dd-16293776f7e0",
   "metadata": {},
   "outputs": [],
   "source": [
    "a=['LG','Nokia','Samsung','Motorolla']\n",
    "b=['Hp','dELL','Samsung','Mi']\n",
    "\n",
    "for x in a:\n",
    "    for d in b:\n",
    "        if (x=='Nokia' or d=='Hp'):\n",
    "            break\n",
    "        else:\n",
    "            print(\"Data not found\")"
   ]
  },
  {
   "cell_type": "code",
   "execution_count": 23,
   "id": "465683ec-3dcb-4f53-b505-7ad91cbea2e5",
   "metadata": {},
   "outputs": [
    {
     "name": "stdout",
     "output_type": "stream",
     "text": [
      "Found\n",
      "Data not found\n",
      "Data not found\n",
      "Data not found\n",
      "Found\n",
      "Found\n",
      "Found\n",
      "Found\n",
      "Found\n",
      "Data not found\n",
      "Data not found\n",
      "Data not found\n",
      "Found\n",
      "Data not found\n",
      "Data not found\n",
      "Data not found\n"
     ]
    }
   ],
   "source": [
    "a=['LG','Nokia','Samsung','Motorolla']\n",
    "b=['Hp','dELL','Samsung','Mi']\n",
    "\n",
    "for x in a:\n",
    "    for d in b:\n",
    "        if (x in'Nokia' or d in 'Hp'):\n",
    "            print ('Found')\n",
    "        else:\n",
    "            print(\"Data not found\")"
   ]
  },
  {
   "cell_type": "code",
   "execution_count": 24,
   "id": "1b06d958-e8e1-4639-be44-73c60bb6a03b",
   "metadata": {},
   "outputs": [
    {
     "name": "stdout",
     "output_type": "stream",
     "text": [
      "Found\n"
     ]
    }
   ],
   "source": [
    "a=['LG','Nokia','Samsung','Motorolla']\n",
    "b=['Hp','dELL','Samsung','Mi']\n",
    "if ('Nokia' in a or 'Hp' in b):\n",
    "    print ('Found')\n",
    "else:\n",
    "    print(\"Data not found\")"
   ]
  },
  {
   "cell_type": "code",
   "execution_count": 16,
   "id": "feee3f5d-2dd7-4c77-9aa6-9389e2c10a75",
   "metadata": {},
   "outputs": [
    {
     "name": "stdout",
     "output_type": "stream",
     "text": [
      "No\n",
      "No\n",
      "No\n",
      "No\n",
      "No\n",
      "No\n",
      "After Break loop will be terminated\n"
     ]
    }
   ],
   "source": [
    "for x in range(10):\n",
    "    if (x>5):\n",
    "        break\n",
    "    else:\n",
    "        print(\"No\")\n",
    "\n",
    "print(\"After Break loop will be terminated\")"
   ]
  },
  {
   "cell_type": "code",
   "execution_count": 21,
   "id": "efdd8613-fa43-493a-9b4d-12c5100a6250",
   "metadata": {},
   "outputs": [
    {
     "name": "stdout",
     "output_type": "stream",
     "text": [
      "No\n",
      "No\n",
      "No\n",
      "No\n",
      "No\n",
      "No\n",
      "6\n",
      "7\n",
      "8\n",
      "9\n"
     ]
    }
   ],
   "source": [
    "for x in range(10):\n",
    "    if (x>5):\n",
    "        pass\n",
    "        print(x)\n",
    "    else:\n",
    "        print(\"No\")\n"
   ]
  },
  {
   "cell_type": "code",
   "execution_count": 20,
   "id": "524c382d-6d60-4e6d-beb5-47b9e9911c80",
   "metadata": {},
   "outputs": [
    {
     "name": "stdout",
     "output_type": "stream",
     "text": [
      "No\n",
      "No\n",
      "No\n",
      "No\n",
      "No\n",
      "No\n"
     ]
    }
   ],
   "source": [
    "for x in range(10):\n",
    "    if (x>5):\n",
    "        continue\n",
    "        print(x)\n",
    "    else:\n",
    "        print(\"No\")"
   ]
  },
  {
   "cell_type": "code",
   "execution_count": null,
   "id": "d76af0c8-e884-4108-8100-41549def67d3",
   "metadata": {},
   "outputs": [],
   "source": []
  }
 ],
 "metadata": {
  "kernelspec": {
   "display_name": "Python 3 (ipykernel)",
   "language": "python",
   "name": "python3"
  },
  "language_info": {
   "codemirror_mode": {
    "name": "ipython",
    "version": 3
   },
   "file_extension": ".py",
   "mimetype": "text/x-python",
   "name": "python",
   "nbconvert_exporter": "python",
   "pygments_lexer": "ipython3",
   "version": "3.9.13"
  }
 },
 "nbformat": 4,
 "nbformat_minor": 5
}
