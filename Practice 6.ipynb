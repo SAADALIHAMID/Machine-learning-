{
 "cells": [
  {
   "cell_type": "code",
   "execution_count": 1,
   "id": "c6faf9a4-4dd9-4202-935e-77f241a13e10",
   "metadata": {},
   "outputs": [
    {
     "data": {
      "text/plain": [
       "['engr.talha93@Gmail.com']"
      ]
     },
     "execution_count": 1,
     "metadata": {},
     "output_type": "execute_result"
    }
   ],
   "source": [
    "import re\n",
    "\n",
    "text=\"the email id: engr.talha93@Gmail.com\"\n",
    "\n",
    "patterns=r\"\\w+\\.\\w+@\\w+\\.\\w+\"\n",
    "\n",
    "re.findall(patterns,text)\n"
   ]
  },
  {
   "cell_type": "code",
   "execution_count": 76,
   "id": "f72f3bcf-98d3-409e-95f6-dc2d8a27c163",
   "metadata": {},
   "outputs": [
    {
     "data": {
      "text/plain": [
       "'the email id: '"
      ]
     },
     "execution_count": 76,
     "metadata": {},
     "output_type": "execute_result"
    }
   ],
   "source": [
    "import re\n",
    "\n",
    "text=\"the email id: engr.talha93@Gmail.com\"\n",
    "\n",
    "patterns=r\"\\w+\\.\\w+@\\w+\\.\\w+\"\n",
    "\n",
    "re.sub(patterns,'',text)"
   ]
  },
  {
   "cell_type": "code",
   "execution_count": 7,
   "id": "7d7a363d-c7bd-42cc-806f-7853f484d671",
   "metadata": {},
   "outputs": [
    {
     "data": {
      "text/plain": [
       "['engr.talha93@Gmail.com', 'matlhajahangir@mnsuet.edu.pk']"
      ]
     },
     "execution_count": 7,
     "metadata": {},
     "output_type": "execute_result"
    }
   ],
   "source": [
    "import re\n",
    "\n",
    "text=\"the email id: engr.talha93@Gmail.com and matlhajahangir@mnsuet.edu.pk\"\n",
    "\n",
    "#patterns=r\"\\w+\\.\\w+@\\w+\\.\\w+\"\n",
    "patterns=r'[a-zA-z0-9._]+@[a-zA-z.]+'\n",
    "\n",
    "re.findall(patterns,text)\n"
   ]
  },
  {
   "cell_type": "code",
   "execution_count": 10,
   "id": "c8da2f66-ce03-4c56-b00c-8300016c4bca",
   "metadata": {},
   "outputs": [
    {
     "data": {
      "text/plain": [
       "['www.jtechsolutions.com.pk', 'www.google.com']"
      ]
     },
     "execution_count": 10,
     "metadata": {},
     "output_type": "execute_result"
    }
   ],
   "source": [
    "import re\n",
    "\n",
    "text=\"Website link: www.jtechsolutions.com.pk also search this webiste from google using www.google.com\"\n",
    "\n",
    "#patterns=r\"\\w+\\.\\w+@\\w+\\.\\w+\"\n",
    "patterns=r'\\bwww+[a-zA-z0-9.]+[a-z.]+'\n",
    "\n",
    "re.findall(patterns,text)\n"
   ]
  },
  {
   "cell_type": "code",
   "execution_count": 11,
   "id": "81d8444c-3a07-437c-af00-d95439b216b5",
   "metadata": {},
   "outputs": [
    {
     "data": {
      "text/plain": [
       "['color', 'colour']"
      ]
     },
     "execution_count": 11,
     "metadata": {},
     "output_type": "execute_result"
    }
   ],
   "source": [
    "import re\n",
    "\n",
    "text=\"color is black, but i like navy blue colour\"\n",
    "\n",
    "patt='colou?r'\n",
    "\n",
    "re.findall(patt,text)"
   ]
  },
  {
   "cell_type": "code",
   "execution_count": 42,
   "id": "7facf8d8-18d6-40ac-b6ec-947d49cf9435",
   "metadata": {},
   "outputs": [
    {
     "data": {
      "text/plain": [
       "['color', 'colour']"
      ]
     },
     "execution_count": 42,
     "metadata": {},
     "output_type": "execute_result"
    }
   ],
   "source": [
    "import re\n",
    "\n",
    "text=\"color is black, but i like navy blue colour\"\n",
    "\n",
    "patt='color|colour'\n",
    "\n",
    "re.findall(patt,text)"
   ]
  },
  {
   "cell_type": "code",
   "execution_count": 18,
   "id": "19a735cb-f2fc-47f6-a287-c2c12ca6a1ed",
   "metadata": {},
   "outputs": [
    {
     "data": {
      "text/plain": [
       "['yahooo', 'yahoo']"
      ]
     },
     "execution_count": 18,
     "metadata": {},
     "output_type": "execute_result"
    }
   ],
   "source": [
    "import re\n",
    "\n",
    "text=\"yahooo yahoo\"\n",
    "\n",
    "patt='yahooo*'\n",
    "\n",
    "re.findall(patt,text)"
   ]
  },
  {
   "cell_type": "code",
   "execution_count": 20,
   "id": "4b01f664-4b26-4bcd-bda7-1844677739b9",
   "metadata": {},
   "outputs": [
    {
     "data": {
      "text/plain": [
       "['Yahooo', 'yahoo']"
      ]
     },
     "execution_count": 20,
     "metadata": {},
     "output_type": "execute_result"
    }
   ],
   "source": [
    "import re\n",
    "\n",
    "text=\"Yahooo yahoo\"\n",
    "\n",
    "PATT=re.compile('yahooo*',re.IGNORECASE)\n",
    "\n",
    "re.findall(PATT,text)"
   ]
  },
  {
   "cell_type": "code",
   "execution_count": 28,
   "id": "1fbfa459-8252-4e33-a912-5fc711f7e0bd",
   "metadata": {},
   "outputs": [
    {
     "name": "stdout",
     "output_type": "stream",
     "text": [
      "['yahoo']\n"
     ]
    }
   ],
   "source": [
    "import re\n",
    "\n",
    "text = \"Yahooo yahoo yahoooo yahooooo yahoooooo \"\n",
    "\n",
    "# Pattern to match exactly \"yahoo\" or \"yahooo\" with case insensitivity\n",
    "PATT = re.compile(r'\\byahoo\\b', re.IGNORECASE)\n",
    "\n",
    "matches = re.findall(PATT, text)\n",
    "print(matches)"
   ]
  },
  {
   "cell_type": "code",
   "execution_count": 29,
   "id": "c675425d-7fdc-485b-acc5-cb2b9701d3dd",
   "metadata": {},
   "outputs": [
    {
     "name": "stdout",
     "output_type": "stream",
     "text": [
      "['Yahoo', 'yahoo', 'yahoo', 'yahoo', 'yahoo']\n"
     ]
    }
   ],
   "source": [
    "import re\n",
    "\n",
    "text = \"Yahooo yahoo yahoooo yahooooo yahoooooo \"\n",
    "\n",
    "# Pattern to match exactly \"yahoo\" or \"yahooo\" with case insensitivity\n",
    "PATT = re.compile(r'\\byahoo', re.IGNORECASE)\n",
    "\n",
    "matches = re.findall(PATT, text)\n",
    "print(matches)"
   ]
  },
  {
   "cell_type": "code",
   "execution_count": 30,
   "id": "5467f8bf-6a64-4f7a-b8c4-957583fd256f",
   "metadata": {},
   "outputs": [
    {
     "name": "stdout",
     "output_type": "stream",
     "text": [
      "['yahoo']\n"
     ]
    }
   ],
   "source": [
    "import re\n",
    "\n",
    "text = \"Yahooo yahoo yahoooo yahooooo yahoooooo \"\n",
    "\n",
    "# Pattern to match exactly \"yahoo\" or \"yahooo\" with case insensitivity\n",
    "PATT = re.compile(r'yahoo\\b', re.IGNORECASE)\n",
    "\n",
    "matches = re.findall(PATT, text)\n",
    "print(matches)"
   ]
  },
  {
   "cell_type": "code",
   "execution_count": 32,
   "id": "1e871c6d-2796-46bf-a17e-dc5515251836",
   "metadata": {},
   "outputs": [
    {
     "name": "stdout",
     "output_type": "stream",
     "text": [
      "['Yahooo', 'yahoo']\n"
     ]
    }
   ],
   "source": [
    "import re\n",
    "\n",
    "text = \"Yahooo yahoo yahoooo yahooooo yahoooooo \"\n",
    "\n",
    "# Pattern to match exactly \"yahoo\" or \"yahooo\" with case insensitivity\n",
    "PATT = re.compile(r'yahooo{0,1}\\b', re.IGNORECASE)\n",
    "\n",
    "matches = re.findall(PATT, text)\n",
    "print(matches)\n"
   ]
  },
  {
   "cell_type": "code",
   "execution_count": 34,
   "id": "ab24e17c-8f1d-4222-9f5e-af17a69ad189",
   "metadata": {},
   "outputs": [
    {
     "name": "stdout",
     "output_type": "stream",
     "text": [
      "[]\n"
     ]
    }
   ],
   "source": [
    "import re\n",
    "\n",
    "text = \"This is the book \"\n",
    "\n",
    "# Pattern to match exactly \"yahoo\" or \"yahooo\" with case insensitivity\n",
    "PATT = re.compile(r'^is', re.IGNORECASE)\n",
    "\n",
    "matches = re.findall(PATT, text)\n",
    "print(matches)"
   ]
  },
  {
   "cell_type": "code",
   "execution_count": 35,
   "id": "9b321f1a-6372-4424-8b37-4cbea2a94591",
   "metadata": {},
   "outputs": [
    {
     "name": "stdout",
     "output_type": "stream",
     "text": [
      "[]\n"
     ]
    }
   ],
   "source": [
    "import re\n",
    "\n",
    "text = \"This is the book \"\n",
    "\n",
    "# Pattern to match exactly \"yahoo\" or \"yahooo\" with case insensitivity\n",
    "PATT = re.compile(r'$is', re.IGNORECASE)\n",
    "\n",
    "matches = re.findall(PATT, text)\n",
    "print(matches)"
   ]
  },
  {
   "cell_type": "code",
   "execution_count": 40,
   "id": "7298d13a-8e8f-4661-a021-2f0d84dac28e",
   "metadata": {},
   "outputs": [
    {
     "name": "stdout",
     "output_type": "stream",
     "text": [
      "['book']\n"
     ]
    }
   ],
   "source": [
    "import re\n",
    "\n",
    "text = \"This is the book\"\n",
    "\n",
    "# Pattern to match exactly \"yahoo\" or \"yahooo\" with case insensitivity\n",
    "PATT = re.compile('BOOK$', re.IGNORECASE)\n",
    "\n",
    "matches = re.findall(PATT, text)\n",
    "print(matches)"
   ]
  },
  {
   "cell_type": "code",
   "execution_count": 41,
   "id": "4fc28be6-ccb9-495a-8da7-6b6e630af869",
   "metadata": {},
   "outputs": [
    {
     "name": "stdout",
     "output_type": "stream",
     "text": [
      "['This', 'THUS', 'TWOS', 'TOMS']\n"
     ]
    }
   ],
   "source": [
    "import re\n",
    "\n",
    "text = \"This is the book THUS TWOS TOMS\"\n",
    "\n",
    "# Pattern to match exactly \"yahoo\" or \"yahooo\" with case insensitivity\n",
    "PATT = re.compile('T..S', re.IGNORECASE)\n",
    "\n",
    "matches = re.findall(PATT, text)\n",
    "print(matches)"
   ]
  },
  {
   "cell_type": "code",
   "execution_count": 44,
   "id": "9951c8f6-5baf-4c9f-b207-1b7388d4dbf3",
   "metadata": {},
   "outputs": [
    {
     "name": "stdout",
     "output_type": "stream",
     "text": [
      "<re.Match object; span=(12, 16), match='THUS'>\n"
     ]
    }
   ],
   "source": [
    "import re\n",
    "\n",
    "text = \"is the book THUS TWOS TOMS\"\n",
    "\n",
    "# Pattern to match exactly \"yahoo\" or \"yahooo\" with case insensitivity\n",
    "PATT = re.compile('T..S', re.IGNORECASE)\n",
    "\n",
    "matches = re.search(PATT, text)\n",
    "print(matches)"
   ]
  },
  {
   "cell_type": "code",
   "execution_count": 45,
   "id": "ac755acd-427a-4ef1-a527-bece68660d17",
   "metadata": {},
   "outputs": [
    {
     "name": "stdout",
     "output_type": "stream",
     "text": [
      "<re.Match object; span=(0, 4), match='This'>\n"
     ]
    }
   ],
   "source": [
    "import re\n",
    "\n",
    "text = \"This is the book THUS TWOS TOMS\"\n",
    "\n",
    "# Pattern to match exactly \"yahoo\" or \"yahooo\" with case insensitivity\n",
    "PATT = re.compile('T..S', re.IGNORECASE)\n",
    "\n",
    "matches = re.match(PATT, text)\n",
    "print(matches)"
   ]
  },
  {
   "cell_type": "code",
   "execution_count": 46,
   "id": "4fa69daf-2835-4e4d-a1fd-2c33d5118e9e",
   "metadata": {},
   "outputs": [
    {
     "name": "stdout",
     "output_type": "stream",
     "text": [
      "None\n"
     ]
    }
   ],
   "source": [
    "import re\n",
    "\n",
    "text = \"is the book THUS TWOS TOMS\"\n",
    "\n",
    "# Pattern to match exactly \"yahoo\" or \"yahooo\" with case insensitivity\n",
    "PATT = re.compile('T..S', re.IGNORECASE)\n",
    "\n",
    "matches = re.match(PATT, text)\n",
    "print(matches)"
   ]
  },
  {
   "cell_type": "code",
   "execution_count": 47,
   "id": "05290691-fd32-40ec-a883-6d8b2ca0bab1",
   "metadata": {},
   "outputs": [
    {
     "name": "stdout",
     "output_type": "stream",
     "text": [
      "<re.Match object; span=(0, 4), match='This'>\n",
      "<re.Match object; span=(17, 21), match='THUS'>\n",
      "<re.Match object; span=(22, 26), match='TWOS'>\n",
      "<re.Match object; span=(27, 31), match='TOMS'>\n"
     ]
    }
   ],
   "source": [
    "import re\n",
    "\n",
    "text = \"This is the book THUS TWOS TOMS\"\n",
    "\n",
    "# Pattern to match exactly \"yahoo\" or \"yahooo\" with case insensitivity\n",
    "PATT = re.compile('T..S', re.IGNORECASE)\n",
    "\n",
    "matches = re.finditer(PATT, text)\n",
    "\n",
    "for i in matches:\n",
    "    print(i)"
   ]
  },
  {
   "cell_type": "code",
   "execution_count": 48,
   "id": "41f31add-2c47-4bab-8abe-21c151c42c23",
   "metadata": {},
   "outputs": [
    {
     "data": {
      "text/plain": [
       "['This', 'is', 'the', 'book', 'THUS', 'TWOS', 'TOMS']"
      ]
     },
     "execution_count": 48,
     "metadata": {},
     "output_type": "execute_result"
    }
   ],
   "source": [
    "import re\n",
    "\n",
    "text = \"This is   the        book THUS      TWOS       TOMS\"\n",
    "\n",
    "# Pattern to match exactly \"yahoo\" or \"yahooo\" with case insensitivity\n",
    "PATT = re.compile('\\s+', re.IGNORECASE)\n",
    "re.split(PATT,text)"
   ]
  },
  {
   "cell_type": "code",
   "execution_count": 49,
   "id": "fb12e21c-fa23-4930-b127-4f33e1a2d050",
   "metadata": {},
   "outputs": [
    {
     "data": {
      "text/plain": [
       "'This is the book THUS TWOS TOMS'"
      ]
     },
     "execution_count": 49,
     "metadata": {},
     "output_type": "execute_result"
    }
   ],
   "source": [
    "import re\n",
    "\n",
    "text = \"This is   the        book THUS      TWOS       TOMS\"\n",
    "\n",
    "# Pattern to match exactly \"yahoo\" or \"yahooo\" with case insensitivity\n",
    "PATT = re.compile('\\s+', re.IGNORECASE)\n",
    "re.sub(PATT,' ',text)"
   ]
  },
  {
   "cell_type": "code",
   "execution_count": 50,
   "id": "5052572d-4815-4f21-a740-9e3e222efd5c",
   "metadata": {},
   "outputs": [
    {
     "data": {
      "text/plain": [
       "('This is the book THUS TWOS TOMS', 6)"
      ]
     },
     "execution_count": 50,
     "metadata": {},
     "output_type": "execute_result"
    }
   ],
   "source": [
    "import re\n",
    "\n",
    "text = \"This is   the        book THUS      TWOS       TOMS\"\n",
    "\n",
    "# Pattern to match exactly \"yahoo\" or \"yahooo\" with case insensitivity\n",
    "PATT = re.compile('\\s+', re.IGNORECASE)\n",
    "re.subn(PATT,' ',text)"
   ]
  },
  {
   "cell_type": "code",
   "execution_count": 51,
   "id": "49d92ca0-76d8-41c9-8305-075055262cda",
   "metadata": {},
   "outputs": [
    {
     "name": "stdout",
     "output_type": "stream",
     "text": [
      "Actual Text is:  This is the book THUS TWOS TOMS\n",
      "total number of substitution are:  6\n"
     ]
    }
   ],
   "source": [
    "import re\n",
    "\n",
    "text = \"This is   the        book THUS      TWOS       TOMS\"\n",
    "\n",
    "# Pattern to match exactly \"yahoo\" or \"yahooo\" with case insensitivity\n",
    "PATT = re.compile('\\s+', re.IGNORECASE)\n",
    "x,y=re.subn(PATT,' ',text)\n",
    "print(\"Actual Text is: \",x)\n",
    "print('total number of substitution are: ',y)"
   ]
  },
  {
   "cell_type": "code",
   "execution_count": 71,
   "id": "f031b656-879c-40ff-95a0-0f20927fddcf",
   "metadata": {},
   "outputs": [
    {
     "name": "stdout",
     "output_type": "stream",
     "text": [
      "('book', 'Data Science')\n",
      "This is the book related to Data Science\n",
      "book\n",
      "Data Science\n"
     ]
    }
   ],
   "source": [
    "import re\n",
    "\n",
    "text = \"This is the book related to Data Science\"\n",
    "\n",
    "    patt=r'\\w+\\s\\w+\\s\\w+\\s(book)\\s\\w+\\s\\w+\\s(Data Science)'\n",
    "\n",
    "# Pattern to match exactly \"yahoo\" or \"yahooo\" with case insensitivity\n",
    "match = re.search(patt,text,re.IGNORECASE)\n",
    "\n",
    "print(match.groups())\n",
    "print(match.group(0))\n",
    "print(match.group(1))\n",
    "print(match.group(2))"
   ]
  },
  {
   "cell_type": "code",
   "execution_count": 75,
   "id": "b24a46a0-bba6-45aa-92cf-28791fac105b",
   "metadata": {},
   "outputs": [
    {
     "name": "stdout",
     "output_type": "stream",
     "text": [
      "('book', 'Data Science')\n",
      "This is the book related to Data Science\n",
      "book\n",
      "Data Science\n"
     ]
    }
   ],
   "source": [
    "import re\n",
    "\n",
    "text = \"This is the book related to Data Science\"\n",
    "\n",
    "patt=r'.*(book).*(Data Science)'\n",
    "\n",
    "# Pattern to match exactly \"yahoo\" or \"yahooo\" with case insensitivity\n",
    "match = re.search(patt,text,re.IGNORECASE)\n",
    "\n",
    "print(match.groups())\n",
    "print(match.group(0))\n",
    "print(match.group(1))\n",
    "print(match.group(2))"
   ]
  },
  {
   "cell_type": "code",
   "execution_count": null,
   "id": "dbee1438-e555-4843-9615-d91eaa9fcde1",
   "metadata": {},
   "outputs": [],
   "source": []
  }
 ],
 "metadata": {
  "kernelspec": {
   "display_name": "Python 3 (ipykernel)",
   "language": "python",
   "name": "python3"
  },
  "language_info": {
   "codemirror_mode": {
    "name": "ipython",
    "version": 3
   },
   "file_extension": ".py",
   "mimetype": "text/x-python",
   "name": "python",
   "nbconvert_exporter": "python",
   "pygments_lexer": "ipython3",
   "version": "3.9.13"
  }
 },
 "nbformat": 4,
 "nbformat_minor": 5
}
