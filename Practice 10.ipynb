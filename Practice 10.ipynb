{
 "cells": [
  {
   "cell_type": "code",
   "execution_count": null,
   "id": "c8db2118-972c-4772-aff8-78a911713736",
   "metadata": {},
   "outputs": [],
   "source": [
    "!pip install category_encoders"
   ]
  },
  {
   "cell_type": "code",
   "execution_count": 58,
   "id": "657d56fd-2f24-4f6d-99b0-2a4bc26c6a89",
   "metadata": {},
   "outputs": [],
   "source": [
    "import pandas as pd\n",
    "import numpy as np\n",
    "import math\n",
    "from sklearn.preprocessing import LabelEncoder\n",
    "from sklearn.preprocessing import OrdinalEncoder\n",
    "from sklearn.preprocessing import OneHotEncoder\n",
    "from category_encoders import BinaryEncoder"
   ]
  },
  {
   "cell_type": "code",
   "execution_count": null,
   "id": "475dbd99-da4a-4c39-bb85-ff6cf8ec0f6e",
   "metadata": {},
   "outputs": [],
   "source": [
    "data=[3,3,4,2,3,3,33,3,2,5,6]\n",
    "df=pd.Series(data)\n",
    "df"
   ]
  },
  {
   "cell_type": "code",
   "execution_count": null,
   "id": "0efd68f1-830a-441f-9716-d86bcb770f9b",
   "metadata": {},
   "outputs": [],
   "source": [
    "df.value_counts()"
   ]
  },
  {
   "cell_type": "code",
   "execution_count": null,
   "id": "2ebd976c-6ad0-4f4e-82fe-02d1155bdc93",
   "metadata": {},
   "outputs": [],
   "source": [
    "df.value_counts(normalize=True)"
   ]
  },
  {
   "cell_type": "code",
   "execution_count": null,
   "id": "f4502308-cac2-4f0b-ada6-87a0d161d015",
   "metadata": {},
   "outputs": [],
   "source": [
    "data1=[3,3,4,2,3,3,33,3,2,5,6]\n",
    "data2=[3,5,4,2,9,3,44,3,9,5,3]\n",
    "join_prob=pd.crosstab(data1,data2,normalize='all')\n",
    "join_prob"
   ]
  },
  {
   "cell_type": "code",
   "execution_count": null,
   "id": "36eb1a7b-6980-4484-8722-932fe5905103",
   "metadata": {},
   "outputs": [],
   "source": [
    "data1=[3,3,4,2,3,3,33,3,2,5,6]\n",
    "data2=[3,5,4,2,9,3,44,3,9,5,3]\n",
    "df1=pd.Series(data1).value_counts(normalize=True)\n",
    "df2=pd.Series(data2).value_counts(normalize=True)\n",
    "df3=pd.crosstab(data1,data2,normalize='all')\n",
    "mi=0\n",
    "for x in df3.index:\n",
    "    for y in df3.columns:\n",
    "        p_xy=df3.loc[x,y]\n",
    "        px=df1[x]\n",
    "        py=df2[y]\n",
    "        if(p_xy>0):\n",
    "          mi+=p_xy*math.log2(p_xy/(px*py))  \n",
    "print('Mutual Information: ',mi)       "
   ]
  },
  {
   "cell_type": "code",
   "execution_count": null,
   "id": "af2b7a21-c60b-405e-8c90-a2b7c674d3ce",
   "metadata": {},
   "outputs": [],
   "source": [
    "data={\n",
    "    'Education':['Matrix','FS.c','Bachelor'],\n",
    "    'Outpt':[0,0,1]\n",
    "}\n",
    "df=pd.DataFrame(data)\n",
    "encoder=LabelEncoder()\n",
    "encoded_df=encoder.fit_transform(df['Education'])\n",
    "df['Eduncation_encoded']=encoded_df\n",
    "df"
   ]
  },
  {
   "cell_type": "code",
   "execution_count": null,
   "id": "369742c5-f046-4417-aa71-77126509b11f",
   "metadata": {},
   "outputs": [],
   "source": [
    "data={\n",
    "    'Education':['Matrix','FS.c','Bachelor'],\n",
    "    'Outpt':[0,0,1]\n",
    "}\n",
    "df=pd.DataFrame(data)\n",
    "categ=[['Matrix','FS.c','Bachelor']]\n",
    "encoder=OrdinalEncoder(categories=categ)\n",
    "encoded_df=encoder.fit_transform(df[['Education']])\n",
    "df['Eduncation_encoded']=encoded_df\n",
    "df"
   ]
  },
  {
   "cell_type": "code",
   "execution_count": null,
   "id": "50bcf024-61b7-40f4-b171-c89b8f88127b",
   "metadata": {},
   "outputs": [],
   "source": [
    "data={\n",
    "    'Education':['Matrix','FS.c','Bachelor'],\n",
    "    'order':['low','high','medium'],\n",
    "    'Outpt':[0,0,1]\n",
    "}\n",
    "df=pd.DataFrame(data)\n",
    "categ=[['Matrix','FS.c','Bachelor'],\n",
    "      ['low','medium','high']]\n",
    "encoder=OrdinalEncoder(categories=categ)\n",
    "encoded_df=encoder.fit_transform(df[['Education', 'order']])\n",
    "encoded_df\n",
    "\n",
    "colum=['education_encoded','order_encoded']\n",
    "df1=pd.DataFrame(encoded_df,columns=colum)\n",
    "df1\n",
    "\n",
    "df=pd.concat([df,df1],axis=1)\n",
    "df"
   ]
  },
  {
   "cell_type": "code",
   "execution_count": null,
   "id": "72baa516-c965-4175-8a1f-8f9dc86dc8fa",
   "metadata": {},
   "outputs": [],
   "source": [
    "data={\n",
    "    'Education':['Matrix','FS.c','Bachelor'],\n",
    "    'order':['low','high','medium'],\n",
    "    'Outpt':[0,0,1]\n",
    "}\n",
    "df=pd.DataFrame(data)\n",
    "encoder=OneHotEncoder(sparse=False)\n",
    "encoded_df=encoder.fit_transform(df[['Education','order']])\n",
    "encoded_df\n",
    "colum=encoder.get_feature_names_out(['Education','order'])\n",
    "colum\n",
    "df1=pd.DataFrame(encoded_df,columns=colum)\n",
    "df1\n",
    "\n",
    "df1=pd.DataFrame(encoded_df,columns=colum)\n",
    "df1\n",
    "\n",
    "df=pd.concat([df,df1],axis=1)\n",
    "df"
   ]
  },
  {
   "cell_type": "code",
   "execution_count": null,
   "id": "f5d9751f-a1d4-4ef0-94b8-087845044183",
   "metadata": {},
   "outputs": [],
   "source": [
    "data={\n",
    "    'Education':['Matric','FS.c','Bachelor','Matric','FS.c','Matric'],\n",
    "    'order':['low','high','medium','low','low','low'],\n",
    "    'Outpt':[0,0,1,0,0,1]\n",
    "}\n",
    "df=pd.DataFrame(data)\n",
    "vc1=df['Education'].value_counts()\n",
    "print(vc1)\n",
    "vc2=df['order'].value_counts()\n",
    "print(vc2)\n",
    "df['encoded_education']=df['Education'].map(vc1)\n",
    "df\n",
    "df['encoded_order']=df['order'].map(vc2)\n",
    "df"
   ]
  },
  {
   "cell_type": "code",
   "execution_count": null,
   "id": "fe97c2ae-37d0-4c38-a962-9a3a8b135364",
   "metadata": {},
   "outputs": [],
   "source": [
    "data={\n",
    "    'Education':['Matric','FS.c','Bachelor','Matric','FS.c','Matric'],\n",
    "    'order':['low','high','medium','low','low','low'],\n",
    "    'Outpt':[0,0,1,0,0,1]\n",
    "}\n",
    "df=pd.DataFrame(data)\n",
    "m1=df.groupby('order')['Outpt'].mean()\n",
    "df['encoded_order']=df['order'].map(m1)\n",
    "df"
   ]
  }
 ],
 "metadata": {
  "kernelspec": {
   "display_name": "Python 3 (ipykernel)",
   "language": "python",
   "name": "python3"
  },
  "language_info": {
   "codemirror_mode": {
    "name": "ipython",
    "version": 3
   },
   "file_extension": ".py",
   "mimetype": "text/x-python",
   "name": "python",
   "nbconvert_exporter": "python",
   "pygments_lexer": "ipython3",
   "version": "3.9.13"
  }
 },
 "nbformat": 4,
 "nbformat_minor": 5
}
