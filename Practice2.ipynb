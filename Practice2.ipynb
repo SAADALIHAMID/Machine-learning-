{
 "cells": [
  {
   "cell_type": "code",
   "execution_count": 1,
   "id": "9c7b2237-c039-45f5-a0a7-ff995c9298d2",
   "metadata": {},
   "outputs": [
    {
     "name": "stdout",
     "output_type": "stream",
     "text": [
      "<class 'int'>\n"
     ]
    }
   ],
   "source": [
    "a=2\n",
    "print(type(a))"
   ]
  },
  {
   "cell_type": "code",
   "execution_count": 2,
   "id": "cc0f3136-de45-4823-a59b-36103797289a",
   "metadata": {},
   "outputs": [
    {
     "name": "stdout",
     "output_type": "stream",
     "text": [
      "<class 'float'>\n"
     ]
    }
   ],
   "source": [
    "a=2.0\n",
    "print(type(a))"
   ]
  },
  {
   "cell_type": "code",
   "execution_count": 3,
   "id": "264990ed-404c-4f7e-af44-22c4bf596e48",
   "metadata": {},
   "outputs": [
    {
     "name": "stdout",
     "output_type": "stream",
     "text": [
      "<class 'complex'>\n"
     ]
    }
   ],
   "source": [
    "a=2.0+3j\n",
    "print(type(a))"
   ]
  },
  {
   "cell_type": "code",
   "execution_count": 5,
   "id": "a79380e3-35b2-4308-a7ed-1e0fe9823a39",
   "metadata": {},
   "outputs": [
    {
     "name": "stdout",
     "output_type": "stream",
     "text": [
      "Jtech\n",
      "Solution\n",
      "<class 'str'>\n"
     ]
    }
   ],
   "source": [
    "a=\"2.0\"\n",
    "a='2'\n",
    "c=\"\"\"Jtech\n",
    "Solution\"\"\"\n",
    "print(c)\n",
    "print(type(c))"
   ]
  },
  {
   "cell_type": "code",
   "execution_count": 6,
   "id": "e1d577d7-59e1-4939-8258-73f4000dd732",
   "metadata": {},
   "outputs": [
    {
     "name": "stdout",
     "output_type": "stream",
     "text": [
      "<class 'bool'>\n"
     ]
    }
   ],
   "source": [
    "a=True\n",
    "print(type(a))"
   ]
  },
  {
   "cell_type": "code",
   "execution_count": 7,
   "id": "08c97599-8b39-4687-a111-8982f464dbb9",
   "metadata": {},
   "outputs": [
    {
     "name": "stdout",
     "output_type": "stream",
     "text": [
      "<class 'list'>\n"
     ]
    }
   ],
   "source": [
    "a=[2,3,4,5]\n",
    "print(type(a))"
   ]
  },
  {
   "cell_type": "code",
   "execution_count": 8,
   "id": "ab4079b0-19e9-4f79-b16c-e99c6ab0bd50",
   "metadata": {},
   "outputs": [
    {
     "name": "stdout",
     "output_type": "stream",
     "text": [
      "<class 'tuple'>\n"
     ]
    }
   ],
   "source": [
    "a=(2,3,4,5)\n",
    "print(type(a))"
   ]
  },
  {
   "cell_type": "code",
   "execution_count": 9,
   "id": "6432644d-e723-43b0-8fc2-0472b70c7bf8",
   "metadata": {},
   "outputs": [
    {
     "name": "stdout",
     "output_type": "stream",
     "text": [
      "<class 'set'>\n"
     ]
    }
   ],
   "source": [
    "a={2,3,4,5}\n",
    "print(type(a))"
   ]
  },
  {
   "cell_type": "code",
   "execution_count": 11,
   "id": "adaa1b90-3986-4ae4-b5ae-2ea0a1a6c60a",
   "metadata": {},
   "outputs": [
    {
     "name": "stdout",
     "output_type": "stream",
     "text": [
      "<class 'dict'>\n"
     ]
    }
   ],
   "source": [
    "a={'q':2,'b':3,'c':4,'d':5}\n",
    "print(type(a))"
   ]
  },
  {
   "cell_type": "code",
   "execution_count": 12,
   "id": "44eb45a5-c7a7-419e-9ff4-4e7403a2521d",
   "metadata": {},
   "outputs": [
    {
     "name": "stdout",
     "output_type": "stream",
     "text": [
      "<class 'dict'>\n"
     ]
    }
   ],
   "source": [
    "a={'q':2,\n",
    "   'b':3,\n",
    "   'c':4,\n",
    "   'd':5}\n",
    "print(type(a))"
   ]
  },
  {
   "cell_type": "code",
   "execution_count": 13,
   "id": "cce28914-a1ca-4f5e-b448-642ff37174d5",
   "metadata": {},
   "outputs": [
    {
     "name": "stdout",
     "output_type": "stream",
     "text": [
      "this is the book\n"
     ]
    }
   ],
   "source": [
    "a=\"This is the book\"\n",
    "print(a.lower())"
   ]
  },
  {
   "cell_type": "code",
   "execution_count": 14,
   "id": "d908090c-d96e-4935-8909-5e8d70ed82ec",
   "metadata": {},
   "outputs": [
    {
     "name": "stdout",
     "output_type": "stream",
     "text": [
      "THIS IS THE BOOK\n"
     ]
    }
   ],
   "source": [
    "a=\"this is the book\"\n",
    "print(a.upper())"
   ]
  },
  {
   "cell_type": "code",
   "execution_count": 16,
   "id": "4107e830-e2d2-4652-bc71-41a11b64a7d5",
   "metadata": {},
   "outputs": [
    {
     "name": "stdout",
     "output_type": "stream",
     "text": [
      " Hello, World! \n",
      "Hello, World!\n"
     ]
    }
   ],
   "source": [
    "a=\" Hello, World! \"\n",
    "print(a)\n",
    "print(a.strip())"
   ]
  },
  {
   "cell_type": "code",
   "execution_count": 17,
   "id": "517de0ec-de47-47ed-a12f-0294d45ae4a2",
   "metadata": {},
   "outputs": [
    {
     "name": "stdout",
     "output_type": "stream",
     "text": [
      " Hello, World! \n",
      "['', 'Hello,', 'World!', '']\n"
     ]
    }
   ],
   "source": [
    "a=\" Hello, World! \"\n",
    "print(a)\n",
    "print(a.split(' '))"
   ]
  },
  {
   "cell_type": "code",
   "execution_count": 18,
   "id": "f1dcd0a4-7c8c-42f8-83ad-3a4c6abd21e4",
   "metadata": {},
   "outputs": [
    {
     "name": "stdout",
     "output_type": "stream",
     "text": [
      " Hello, World! \n",
      "[' Hello', ' World! ']\n"
     ]
    }
   ],
   "source": [
    "a=\" Hello, World! \"\n",
    "print(a)\n",
    "print(a.split(','))"
   ]
  },
  {
   "cell_type": "code",
   "execution_count": 19,
   "id": "145a7f13-f669-4b1a-a9fd-887442d96e09",
   "metadata": {},
   "outputs": [
    {
     "name": "stdout",
     "output_type": "stream",
     "text": [
      " Hello, World! \n",
      "[' Hello, World', ' ']\n"
     ]
    }
   ],
   "source": [
    "a=\" Hello, World! \"\n",
    "print(a)\n",
    "print(a.split('!'))"
   ]
  },
  {
   "cell_type": "code",
   "execution_count": 22,
   "id": "579ebd04-5440-46d8-aa43-8b1cbed1afab",
   "metadata": {},
   "outputs": [
    {
     "name": "stdout",
     "output_type": "stream",
     "text": [
      "This is the book$relate to Machine Learning and the price is $1000\n"
     ]
    }
   ],
   "source": [
    "q=\"This is the book\"\n",
    "w=\"relate to Machine Learning and the price is $1000\"\n",
    "a=\"$\".join([q,w])\n",
    "print(a)"
   ]
  },
  {
   "cell_type": "code",
   "execution_count": 23,
   "id": "b67c6c7b-340a-4e27-b029-19e6fe424b67",
   "metadata": {},
   "outputs": [
    {
     "name": "stdout",
     "output_type": "stream",
     "text": [
      "2\n"
     ]
    }
   ],
   "source": [
    "q=\"This is the book\"\n",
    "print(q.find(\"is\"))"
   ]
  },
  {
   "cell_type": "code",
   "execution_count": 24,
   "id": "b0ac957d-1c19-4462-a028-bd0d46ec77c0",
   "metadata": {},
   "outputs": [
    {
     "name": "stdout",
     "output_type": "stream",
     "text": [
      " Hello, World! \n",
      " Hello, Python! \n"
     ]
    }
   ],
   "source": [
    "a=\" Hello, World! \"\n",
    "print(a)\n",
    "print(a.replace('World','Python'))"
   ]
  },
  {
   "cell_type": "code",
   "execution_count": 28,
   "id": "0c6737e3-7d0b-477b-b3d0-7705211cfb3e",
   "metadata": {},
   "outputs": [
    {
     "name": "stdout",
     "output_type": "stream",
     "text": [
      "{1}\n",
      "{1, 2, 3, 4, 5}\n",
      "{2, 3}\n",
      "{2, 3, 4, 5}\n"
     ]
    }
   ],
   "source": [
    "a={1,2,3}\n",
    "b={1,4,5}\n",
    "print(a&b)\n",
    "print(a|b)\n",
    "print(a-b)\n",
    "print(a^b)"
   ]
  },
  {
   "cell_type": "code",
   "execution_count": 31,
   "id": "1f25afc9-f67d-485a-87a2-fdd02d77f372",
   "metadata": {},
   "outputs": [
    {
     "name": "stdout",
     "output_type": "stream",
     "text": [
      "frozenset({2, 3, 4})\n"
     ]
    }
   ],
   "source": [
    "x=frozenset([2,3,4])\n",
    "print(x)"
   ]
  },
  {
   "cell_type": "code",
   "execution_count": 33,
   "id": "f2db521c-eba1-4f62-95ec-6da05c3f84f5",
   "metadata": {},
   "outputs": [
    {
     "name": "stdout",
     "output_type": "stream",
     "text": [
      "True\n"
     ]
    }
   ],
   "source": [
    "a=(10>5)\n",
    "print(a)"
   ]
  },
  {
   "cell_type": "code",
   "execution_count": 34,
   "id": "8eec133f-fb4d-4938-8063-896bd2b1f6da",
   "metadata": {},
   "outputs": [
    {
     "name": "stdout",
     "output_type": "stream",
     "text": [
      "False\n"
     ]
    }
   ],
   "source": [
    "a=(10>5) and (5>10)\n",
    "print(a)"
   ]
  },
  {
   "cell_type": "code",
   "execution_count": 35,
   "id": "bc278d1e-74f5-4a32-a087-92ba9ba6f582",
   "metadata": {},
   "outputs": [
    {
     "name": "stdout",
     "output_type": "stream",
     "text": [
      "True\n"
     ]
    }
   ],
   "source": [
    "a=(10>5) or (5>10)\n",
    "print(a)"
   ]
  },
  {
   "cell_type": "code",
   "execution_count": 36,
   "id": "5561d856-ccba-473e-b0fb-bd89a7720bf4",
   "metadata": {},
   "outputs": [
    {
     "name": "stdout",
     "output_type": "stream",
     "text": [
      "False\n"
     ]
    }
   ],
   "source": [
    "a=not((10>5) or (5>10))\n",
    "print(a)"
   ]
  },
  {
   "cell_type": "code",
   "execution_count": 45,
   "id": "b9cfded7-2f95-4abd-9f9e-d67b92df4977",
   "metadata": {},
   "outputs": [
    {
     "name": "stdout",
     "output_type": "stream",
     "text": [
      "[2, 3, 4, 5]\n",
      "5\n",
      "[2, 3, 4]\n",
      "[2, 5, 3, 4]\n",
      "[2, 3, 4]\n"
     ]
    }
   ],
   "source": [
    "a=[2,3,4]\n",
    "a.append(5)\n",
    "print(a)\n",
    "print(a.pop())\n",
    "print(a)\n",
    "a.insert(1,5)\n",
    "print(a)\n",
    "a.remove(5)\n",
    "print(a)"
   ]
  },
  {
   "cell_type": "code",
   "execution_count": 38,
   "id": "615a9069-ceed-4792-8211-fb8190a395e4",
   "metadata": {},
   "outputs": [
    {
     "ename": "AttributeError",
     "evalue": "'tuple' object has no attribute 'append'",
     "output_type": "error",
     "traceback": [
      "\u001b[1;31m---------------------------------------------------------------------------\u001b[0m",
      "\u001b[1;31mAttributeError\u001b[0m                            Traceback (most recent call last)",
      "Cell \u001b[1;32mIn[38], line 2\u001b[0m\n\u001b[0;32m      1\u001b[0m a\u001b[38;5;241m=\u001b[39m(\u001b[38;5;241m2\u001b[39m,\u001b[38;5;241m3\u001b[39m,\u001b[38;5;241m4\u001b[39m)\n\u001b[1;32m----> 2\u001b[0m \u001b[43ma\u001b[49m\u001b[38;5;241;43m.\u001b[39;49m\u001b[43mappend\u001b[49m(\u001b[38;5;241m5\u001b[39m)\n\u001b[0;32m      3\u001b[0m \u001b[38;5;28mprint\u001b[39m(a)\n",
      "\u001b[1;31mAttributeError\u001b[0m: 'tuple' object has no attribute 'append'"
     ]
    }
   ],
   "source": [
    "a=(2,3,4)\n",
    "a.append(5)\n",
    "print(a)"
   ]
  },
  {
   "cell_type": "code",
   "execution_count": 48,
   "id": "9756c38c-0db2-42d4-a309-fa8b03298615",
   "metadata": {},
   "outputs": [
    {
     "name": "stdout",
     "output_type": "stream",
     "text": [
      "<class 'set'>\n",
      "<class 'list'>\n"
     ]
    }
   ],
   "source": [
    "s={2,3,4}\n",
    "l=list(s)\n",
    "print(type(s))\n",
    "print(type(l))"
   ]
  },
  {
   "cell_type": "code",
   "execution_count": 53,
   "id": "2f3fe430-7362-4297-8a9b-dfdf73c078b1",
   "metadata": {},
   "outputs": [
    {
     "name": "stdout",
     "output_type": "stream",
     "text": [
      "<class 'set'>\n",
      "<class 'list'>\n",
      "[2, 3, 4]\n",
      "[2, 5, 3, 4]\n",
      "<class 'tuple'>\n",
      "(2, 5, 3, 4)\n"
     ]
    }
   ],
   "source": [
    "t=(2,3,4)\n",
    "l=list(t)\n",
    "print(type(s))\n",
    "print(type(l))\n",
    "print(l)\n",
    "l.insert(1,5)\n",
    "print(l)\n",
    "tt=tuple(l)\n",
    "print(type(tt))\n",
    "print(tt)"
   ]
  },
  {
   "cell_type": "code",
   "execution_count": 54,
   "id": "aeacb1f3-4f69-4e60-8265-cdbb7f6c83d2",
   "metadata": {},
   "outputs": [
    {
     "name": "stdout",
     "output_type": "stream",
     "text": [
      "2\n"
     ]
    }
   ],
   "source": [
    "a=\"this is the book book\"\n",
    "print(a.count('book'))"
   ]
  },
  {
   "cell_type": "code",
   "execution_count": null,
   "id": "c6c4e937-6b3d-4bef-be8e-aa3750765459",
   "metadata": {},
   "outputs": [],
   "source": []
  }
 ],
 "metadata": {
  "kernelspec": {
   "display_name": "Python 3 (ipykernel)",
   "language": "python",
   "name": "python3"
  },
  "language_info": {
   "codemirror_mode": {
    "name": "ipython",
    "version": 3
   },
   "file_extension": ".py",
   "mimetype": "text/x-python",
   "name": "python",
   "nbconvert_exporter": "python",
   "pygments_lexer": "ipython3",
   "version": "3.9.13"
  }
 },
 "nbformat": 4,
 "nbformat_minor": 5
}
