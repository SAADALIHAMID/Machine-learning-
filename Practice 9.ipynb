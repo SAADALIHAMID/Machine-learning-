{
 "cells": [
  {
   "cell_type": "code",
   "execution_count": 111,
   "id": "a30a5af0-f87d-4d57-92cd-bc62f44c0a7c",
   "metadata": {},
   "outputs": [],
   "source": [
    "import numpy as np\n",
    "import pandas as pd\n",
    "import random\n",
    "from sklearn.model_selection import train_test_split\n",
    "from sklearn.preprocessing import MinMaxScaler\n",
    "from sklearn.preprocessing import StandardScaler"
   ]
  },
  {
   "cell_type": "code",
   "execution_count": 14,
   "id": "4df28c06-e55f-4522-a0e0-afc25ade807a",
   "metadata": {},
   "outputs": [
    {
     "data": {
      "text/plain": [
       "[214.28571428571428,\n",
       " 91.83673469387755,\n",
       " 397.9591836734694,\n",
       " 163.26530612244898,\n",
       " 61.224489795918366,\n",
       " 418.3673469387755,\n",
       " 326.53061224489795,\n",
       " 500.0,\n",
       " 234.6938775510204,\n",
       " 336.734693877551,\n",
       " 81.63265306122449,\n",
       " 275.51020408163265,\n",
       " 183.6734693877551,\n",
       " 132.6530612244898,\n",
       " 479.59183673469386,\n",
       " 346.9387755102041,\n",
       " 367.3469387755102,\n",
       " 316.3265306122449,\n",
       " 224.48979591836735,\n",
       " 173.46938775510205]"
      ]
     },
     "execution_count": 14,
     "metadata": {},
     "output_type": "execute_result"
    }
   ],
   "source": [
    "data=np.linspace(0,500)\n",
    "lis_data=list(data)\n",
    "total_len=len(data)\n",
    "random.sample(lis_data,20)"
   ]
  },
  {
   "cell_type": "code",
   "execution_count": 21,
   "id": "c2d7e790-6fc0-4766-9489-b5ae389d05a2",
   "metadata": {},
   "outputs": [
    {
     "data": {
      "text/plain": [
       "['Student377',\n",
       " 'Student177',\n",
       " 'Student359',\n",
       " 'Student473',\n",
       " 'Student183',\n",
       " 'Student276',\n",
       " 'Student47',\n",
       " 'Student164',\n",
       " 'Student347',\n",
       " 'Student24',\n",
       " 'Student58',\n",
       " 'Student492',\n",
       " 'Student421',\n",
       " 'Student52',\n",
       " 'Student127',\n",
       " 'Student224',\n",
       " 'Student484',\n",
       " 'Student153',\n",
       " 'Student390',\n",
       " 'Student48',\n",
       " 'Student280',\n",
       " 'Student19',\n",
       " 'Student277',\n",
       " 'Student331',\n",
       " 'Student283',\n",
       " 'Student145',\n",
       " 'Student353',\n",
       " 'Student425',\n",
       " 'Student105',\n",
       " 'Student181',\n",
       " 'Student193',\n",
       " 'Student88',\n",
       " 'Student152',\n",
       " 'Student35',\n",
       " 'Student108',\n",
       " 'Student465',\n",
       " 'Student158',\n",
       " 'Student82',\n",
       " 'Student415',\n",
       " 'Student129',\n",
       " 'Student73',\n",
       " 'Student238',\n",
       " 'Student266',\n",
       " 'Student374',\n",
       " 'Student150',\n",
       " 'Student63',\n",
       " 'Student397',\n",
       " 'Student304',\n",
       " 'Student20',\n",
       " 'Student41']"
      ]
     },
     "execution_count": 21,
     "metadata": {},
     "output_type": "execute_result"
    }
   ],
   "source": [
    "students=[f'Student{i+1}' for i in range(500)]\n",
    "sam=random.sample(students,50)\n",
    "len(sam)\n",
    "sam"
   ]
  },
  {
   "cell_type": "code",
   "execution_count": 22,
   "id": "2c89f7f6-094e-4ae1-bba9-3ef1b05a75ac",
   "metadata": {},
   "outputs": [
    {
     "data": {
      "text/plain": [
       "['Student1',\n",
       " 'Student21',\n",
       " 'Student41',\n",
       " 'Student61',\n",
       " 'Student81',\n",
       " 'Student101',\n",
       " 'Student121',\n",
       " 'Student141',\n",
       " 'Student161',\n",
       " 'Student181',\n",
       " 'Student201',\n",
       " 'Student221',\n",
       " 'Student241',\n",
       " 'Student261',\n",
       " 'Student281',\n",
       " 'Student301',\n",
       " 'Student321',\n",
       " 'Student341',\n",
       " 'Student361',\n",
       " 'Student381',\n",
       " 'Student401',\n",
       " 'Student421',\n",
       " 'Student441',\n",
       " 'Student461',\n",
       " 'Student481']"
      ]
     },
     "execution_count": 22,
     "metadata": {},
     "output_type": "execute_result"
    }
   ],
   "source": [
    "students=[f'Student{i+1}' for i in range(0,500,20)]\n",
    "students"
   ]
  },
  {
   "cell_type": "code",
   "execution_count": 27,
   "id": "998b28ba-7c30-485d-8b6e-bc06ca3541d9",
   "metadata": {},
   "outputs": [
    {
     "data": {
      "text/plain": [
       "array([ 0.        ,  1.02040816,  2.04081633,  3.06122449,  4.08163265,\n",
       "        5.10204082,  6.12244898,  7.14285714,  8.16326531,  9.18367347,\n",
       "       10.20408163, 11.2244898 , 12.24489796, 13.26530612, 14.28571429,\n",
       "       15.30612245, 16.32653061, 17.34693878, 18.36734694, 19.3877551 ,\n",
       "       20.40816327, 21.42857143, 22.44897959, 23.46938776, 24.48979592,\n",
       "       25.51020408, 26.53061224, 27.55102041, 28.57142857, 29.59183673,\n",
       "       30.6122449 , 31.63265306, 32.65306122, 33.67346939, 34.69387755,\n",
       "       35.71428571, 36.73469388, 37.75510204, 38.7755102 , 39.79591837,\n",
       "       40.81632653, 41.83673469, 42.85714286, 43.87755102, 44.89795918,\n",
       "       45.91836735, 46.93877551, 47.95918367, 48.97959184, 50.        ])"
      ]
     },
     "execution_count": 27,
     "metadata": {},
     "output_type": "execute_result"
    }
   ],
   "source": [
    "data"
   ]
  },
  {
   "cell_type": "code",
   "execution_count": 34,
   "id": "d93f0520-77dd-4082-aa6c-d0418b596f55",
   "metadata": {},
   "outputs": [
    {
     "data": {
      "text/plain": [
       "[3.0612244897959187,\n",
       " 11.224489795918368,\n",
       " 40.816326530612244,\n",
       " 41.83673469387755,\n",
       " 15.306122448979592]"
      ]
     },
     "execution_count": 34,
     "metadata": {},
     "output_type": "execute_result"
    }
   ],
   "source": [
    "data=np.linspace(0,50)\n",
    "l=list(data)\n",
    "random_data=random.sample(l,50)\n",
    "random_data\n",
    "sample=[random_data[i] for i in range(0,50,10)]\n",
    "sample"
   ]
  },
  {
   "cell_type": "code",
   "execution_count": 49,
   "id": "b3aedb8d-dd01-4c4d-8237-18cbebb8ee33",
   "metadata": {},
   "outputs": [
    {
     "data": {
      "text/html": [
       "<div>\n",
       "<style scoped>\n",
       "    .dataframe tbody tr th:only-of-type {\n",
       "        vertical-align: middle;\n",
       "    }\n",
       "\n",
       "    .dataframe tbody tr th {\n",
       "        vertical-align: top;\n",
       "    }\n",
       "\n",
       "    .dataframe thead th {\n",
       "        text-align: right;\n",
       "    }\n",
       "</style>\n",
       "<table border=\"1\" class=\"dataframe\">\n",
       "  <thead>\n",
       "    <tr style=\"text-align: right;\">\n",
       "      <th></th>\n",
       "      <th>feature1</th>\n",
       "      <th>featue2</th>\n",
       "      <th>class</th>\n",
       "    </tr>\n",
       "  </thead>\n",
       "  <tbody>\n",
       "    <tr>\n",
       "      <th>0</th>\n",
       "      <td>2</td>\n",
       "      <td>9</td>\n",
       "      <td>1</td>\n",
       "    </tr>\n",
       "    <tr>\n",
       "      <th>1</th>\n",
       "      <td>5</td>\n",
       "      <td>4</td>\n",
       "      <td>0</td>\n",
       "    </tr>\n",
       "    <tr>\n",
       "      <th>2</th>\n",
       "      <td>6</td>\n",
       "      <td>3</td>\n",
       "      <td>1</td>\n",
       "    </tr>\n",
       "    <tr>\n",
       "      <th>3</th>\n",
       "      <td>7</td>\n",
       "      <td>2</td>\n",
       "      <td>0</td>\n",
       "    </tr>\n",
       "    <tr>\n",
       "      <th>4</th>\n",
       "      <td>2</td>\n",
       "      <td>1</td>\n",
       "      <td>0</td>\n",
       "    </tr>\n",
       "    <tr>\n",
       "      <th>5</th>\n",
       "      <td>23</td>\n",
       "      <td>3</td>\n",
       "      <td>1</td>\n",
       "    </tr>\n",
       "    <tr>\n",
       "      <th>6</th>\n",
       "      <td>3</td>\n",
       "      <td>3</td>\n",
       "      <td>1</td>\n",
       "    </tr>\n",
       "    <tr>\n",
       "      <th>7</th>\n",
       "      <td>2</td>\n",
       "      <td>4</td>\n",
       "      <td>1</td>\n",
       "    </tr>\n",
       "    <tr>\n",
       "      <th>8</th>\n",
       "      <td>1</td>\n",
       "      <td>2</td>\n",
       "      <td>0</td>\n",
       "    </tr>\n",
       "    <tr>\n",
       "      <th>9</th>\n",
       "      <td>4</td>\n",
       "      <td>1</td>\n",
       "      <td>0</td>\n",
       "    </tr>\n",
       "  </tbody>\n",
       "</table>\n",
       "</div>"
      ],
      "text/plain": [
       "   feature1  featue2  class\n",
       "0         2        9      1\n",
       "1         5        4      0\n",
       "2         6        3      1\n",
       "3         7        2      0\n",
       "4         2        1      0\n",
       "5        23        3      1\n",
       "6         3        3      1\n",
       "7         2        4      1\n",
       "8         1        2      0\n",
       "9         4        1      0"
      ]
     },
     "execution_count": 49,
     "metadata": {},
     "output_type": "execute_result"
    }
   ],
   "source": [
    "data = {\n",
    "    'feature1': [2, 5, 6, 7, 2,23,3,2,1,4],\n",
    "    'featue2': [9, 4, 3, 2, 1,3,3,4,2,1],\n",
    "    'class': [1, 0, 1, 0, 0,1,1,1,0,0]\n",
    "}\n",
    "df=pd.DataFrame(data)\n",
    "df"
   ]
  },
  {
   "cell_type": "code",
   "execution_count": 50,
   "id": "9316ad3b-ff86-4c86-96c2-d94fa236704e",
   "metadata": {},
   "outputs": [
    {
     "data": {
      "text/html": [
       "<div>\n",
       "<style scoped>\n",
       "    .dataframe tbody tr th:only-of-type {\n",
       "        vertical-align: middle;\n",
       "    }\n",
       "\n",
       "    .dataframe tbody tr th {\n",
       "        vertical-align: top;\n",
       "    }\n",
       "\n",
       "    .dataframe thead th {\n",
       "        text-align: right;\n",
       "    }\n",
       "</style>\n",
       "<table border=\"1\" class=\"dataframe\">\n",
       "  <thead>\n",
       "    <tr style=\"text-align: right;\">\n",
       "      <th></th>\n",
       "      <th>feature1</th>\n",
       "      <th>featue2</th>\n",
       "    </tr>\n",
       "  </thead>\n",
       "  <tbody>\n",
       "    <tr>\n",
       "      <th>0</th>\n",
       "      <td>2</td>\n",
       "      <td>9</td>\n",
       "    </tr>\n",
       "    <tr>\n",
       "      <th>1</th>\n",
       "      <td>5</td>\n",
       "      <td>4</td>\n",
       "    </tr>\n",
       "    <tr>\n",
       "      <th>2</th>\n",
       "      <td>6</td>\n",
       "      <td>3</td>\n",
       "    </tr>\n",
       "    <tr>\n",
       "      <th>3</th>\n",
       "      <td>7</td>\n",
       "      <td>2</td>\n",
       "    </tr>\n",
       "    <tr>\n",
       "      <th>4</th>\n",
       "      <td>2</td>\n",
       "      <td>1</td>\n",
       "    </tr>\n",
       "    <tr>\n",
       "      <th>5</th>\n",
       "      <td>23</td>\n",
       "      <td>3</td>\n",
       "    </tr>\n",
       "    <tr>\n",
       "      <th>6</th>\n",
       "      <td>3</td>\n",
       "      <td>3</td>\n",
       "    </tr>\n",
       "    <tr>\n",
       "      <th>7</th>\n",
       "      <td>2</td>\n",
       "      <td>4</td>\n",
       "    </tr>\n",
       "    <tr>\n",
       "      <th>8</th>\n",
       "      <td>1</td>\n",
       "      <td>2</td>\n",
       "    </tr>\n",
       "    <tr>\n",
       "      <th>9</th>\n",
       "      <td>4</td>\n",
       "      <td>1</td>\n",
       "    </tr>\n",
       "  </tbody>\n",
       "</table>\n",
       "</div>"
      ],
      "text/plain": [
       "   feature1  featue2\n",
       "0         2        9\n",
       "1         5        4\n",
       "2         6        3\n",
       "3         7        2\n",
       "4         2        1\n",
       "5        23        3\n",
       "6         3        3\n",
       "7         2        4\n",
       "8         1        2\n",
       "9         4        1"
      ]
     },
     "execution_count": 50,
     "metadata": {},
     "output_type": "execute_result"
    }
   ],
   "source": [
    "X=df[['feature1','featue2']]\n",
    "X"
   ]
  },
  {
   "cell_type": "code",
   "execution_count": 51,
   "id": "da3e8f9e-ab0c-415b-af88-013d9104301d",
   "metadata": {},
   "outputs": [
    {
     "data": {
      "text/plain": [
       "0    1\n",
       "1    0\n",
       "2    1\n",
       "3    0\n",
       "4    0\n",
       "5    1\n",
       "6    1\n",
       "7    1\n",
       "8    0\n",
       "9    0\n",
       "Name: class, dtype: int64"
      ]
     },
     "execution_count": 51,
     "metadata": {},
     "output_type": "execute_result"
    }
   ],
   "source": [
    "y=df['class']\n",
    "y"
   ]
  },
  {
   "cell_type": "code",
   "execution_count": 52,
   "id": "f91d99eb-58e2-4c81-b766-957a93c07c95",
   "metadata": {},
   "outputs": [
    {
     "data": {
      "text/html": [
       "<div>\n",
       "<style scoped>\n",
       "    .dataframe tbody tr th:only-of-type {\n",
       "        vertical-align: middle;\n",
       "    }\n",
       "\n",
       "    .dataframe tbody tr th {\n",
       "        vertical-align: top;\n",
       "    }\n",
       "\n",
       "    .dataframe thead th {\n",
       "        text-align: right;\n",
       "    }\n",
       "</style>\n",
       "<table border=\"1\" class=\"dataframe\">\n",
       "  <thead>\n",
       "    <tr style=\"text-align: right;\">\n",
       "      <th></th>\n",
       "      <th>feature1</th>\n",
       "      <th>featue2</th>\n",
       "    </tr>\n",
       "  </thead>\n",
       "  <tbody>\n",
       "    <tr>\n",
       "      <th>1</th>\n",
       "      <td>5</td>\n",
       "      <td>4</td>\n",
       "    </tr>\n",
       "    <tr>\n",
       "      <th>7</th>\n",
       "      <td>2</td>\n",
       "      <td>4</td>\n",
       "    </tr>\n",
       "    <tr>\n",
       "      <th>3</th>\n",
       "      <td>7</td>\n",
       "      <td>2</td>\n",
       "    </tr>\n",
       "    <tr>\n",
       "      <th>4</th>\n",
       "      <td>2</td>\n",
       "      <td>1</td>\n",
       "    </tr>\n",
       "    <tr>\n",
       "      <th>0</th>\n",
       "      <td>2</td>\n",
       "      <td>9</td>\n",
       "    </tr>\n",
       "    <tr>\n",
       "      <th>8</th>\n",
       "      <td>1</td>\n",
       "      <td>2</td>\n",
       "    </tr>\n",
       "    <tr>\n",
       "      <th>2</th>\n",
       "      <td>6</td>\n",
       "      <td>3</td>\n",
       "    </tr>\n",
       "    <tr>\n",
       "      <th>5</th>\n",
       "      <td>23</td>\n",
       "      <td>3</td>\n",
       "    </tr>\n",
       "  </tbody>\n",
       "</table>\n",
       "</div>"
      ],
      "text/plain": [
       "   feature1  featue2\n",
       "1         5        4\n",
       "7         2        4\n",
       "3         7        2\n",
       "4         2        1\n",
       "0         2        9\n",
       "8         1        2\n",
       "2         6        3\n",
       "5        23        3"
      ]
     },
     "execution_count": 52,
     "metadata": {},
     "output_type": "execute_result"
    }
   ],
   "source": [
    "X_train,X_test,y_train,y_test=train_test_split(X,y,stratify=y,test_size=0.2,random_state=22)\n",
    "X_train"
   ]
  },
  {
   "cell_type": "code",
   "execution_count": 46,
   "id": "ba2e3135-5e19-4553-b201-f00b1ba40cf9",
   "metadata": {},
   "outputs": [
    {
     "name": "stdout",
     "output_type": "stream",
     "text": [
      "X_train:\n",
      "   feature1  feature2\n",
      "1         5         4\n",
      "7         2         4\n",
      "3         7         2\n",
      "4         2         1\n",
      "0         2         9\n",
      "8         1         2\n",
      "2         6         3\n",
      "5        23         3\n"
     ]
    }
   ],
   "source": [
    "import pandas as pd\n",
    "from sklearn.model_selection import train_test_split\n",
    "\n",
    "# Creating the DataFrame\n",
    "data = {\n",
    "    'feature1': [2, 5, 6, 7, 2,23,3,2,1,4],\n",
    "    'feature2': [9, 4, 3, 2, 1,3,3,4,2,1],\n",
    "    'class': [1, 0, 1, 0, 0,1,1,1,0,]\n",
    "}\n",
    "df = pd.DataFrame(data)\n",
    "\n",
    "# Selecting feature columns\n",
    "X = df[['feature1', 'feature2']]\n",
    "y = df['class']\n",
    "\n",
    "# Stratified train-test split\n",
    "X_train, X_test, y_train, y_test = train_test_split(X, y, stratify=y, test_size=0.2, random_state=22)\n",
    "\n",
    "# Displaying training features\n",
    "print(\"X_train:\")\n",
    "print(X_train)\n"
   ]
  },
  {
   "cell_type": "code",
   "execution_count": 55,
   "id": "afa98821-9888-4a11-bc8b-bd24cd0a5b02",
   "metadata": {},
   "outputs": [
    {
     "name": "stdout",
     "output_type": "stream",
     "text": [
      "X_train:\n",
      "   feature1  feature2\n",
      "9         4         1\n",
      "6         3         3\n",
      "3         7         2\n",
      "7         2         4\n",
      "0         2         9\n",
      "8         1         2\n",
      "4         2         1\n",
      "5        23         3\n"
     ]
    }
   ],
   "source": [
    "import pandas as pd\n",
    "from sklearn.model_selection import train_test_split\n",
    "\n",
    "# Creating the DataFrame\n",
    "data = {\n",
    "    'feature1': [2, 5, 6, 7, 2,23,3,2,1,4],\n",
    "    'feature2': [9, 4, 3, 2, 1,3,3,4,2,1],\n",
    "    'class': [1, 0, 1, 0, 0,1,1,1,0,0]\n",
    "}\n",
    "df = pd.DataFrame(data)\n",
    "\n",
    "# Selecting feature columns\n",
    "X = df[['feature1', 'feature2']]\n",
    "y = df['class']\n",
    "\n",
    "# Stratified train-test split\n",
    "X_train, X_test, y_train, y_test = train_test_split(X, y, test_size=0.2, random_state=22)\n",
    "\n",
    "# Displaying training features\n",
    "print(\"X_train:\")\n",
    "print(X_train)\n"
   ]
  },
  {
   "cell_type": "code",
   "execution_count": 66,
   "id": "b3d62bd6-6c10-4c6a-aac7-d0171ab5d5a8",
   "metadata": {},
   "outputs": [
    {
     "name": "stdout",
     "output_type": "stream",
     "text": [
      "Training Data:\n",
      "   feature1  feature2  class\n",
      "7         2         4      1\n",
      "5        23         3      1\n",
      "0         2         9      1\n",
      "6         3         3      1\n",
      "2         6         3      1\n",
      "8         1         2      0\n",
      "4         2         1      0\n",
      "1         5         4      0\n",
      "Testing Data\n",
      "   feature1  feature2  class\n",
      "9         4         1      0\n",
      "3         7         2      0\n"
     ]
    }
   ],
   "source": [
    "import pandas as pd\n",
    "from sklearn.model_selection import train_test_split\n",
    "\n",
    "# Creating the DataFrame\n",
    "data = {\n",
    "    'feature1': [2, 5, 6, 7, 2,23,3,2,1,4],\n",
    "    'feature2': [9, 4, 3, 2, 1,3,3,4,2,1],\n",
    "    'class': [1, 0, 1, 0, 0,1,1,1,0,0]\n",
    "}\n",
    "df = pd.DataFrame(data)\n",
    "\n",
    "# Selecting feature columns\n",
    "X = df[['feature1', 'feature2']]\n",
    "y = df['class']\n",
    "\n",
    "# Stratified train-test split\n",
    "X_train, X_test, y_train, y_test = train_test_split(X, y, test_size=0.2)\n",
    "\n",
    "# Displaying training features\n",
    "print(\"Training Data:\")\n",
    "train_data=pd.concat([X_train,y_train],axis=1)\n",
    "print(train_data)\n",
    "print(\"Testing Data\")\n",
    "test_data=pd.concat([X_test,y_test],axis=1)\n",
    "print(test_data)\n"
   ]
  },
  {
   "cell_type": "code",
   "execution_count": 65,
   "id": "92c6100d-9620-4731-818f-ef33b5d1a58f",
   "metadata": {},
   "outputs": [
    {
     "name": "stdout",
     "output_type": "stream",
     "text": [
      "Training Data:\n",
      "   feature1  feature2  class\n",
      "1         5         4      0\n",
      "7         2         4      1\n",
      "3         7         2      0\n",
      "4         2         1      0\n",
      "0         2         9      1\n",
      "8         1         2      0\n",
      "2         6         3      1\n",
      "5        23         3      1\n",
      "Testing Data\n",
      "   feature1  feature2  class\n",
      "9         4         1      0\n",
      "6         3         3      1\n"
     ]
    }
   ],
   "source": [
    "import pandas as pd\n",
    "from sklearn.model_selection import train_test_split\n",
    "\n",
    "# Creating the DataFrame\n",
    "data = {\n",
    "    'feature1': [2, 5, 6, 7, 2,23,3,2,1,4],\n",
    "    'feature2': [9, 4, 3, 2, 1,3,3,4,2,1],\n",
    "    'class': [1, 0, 1, 0, 0,1,1,1,0,0]\n",
    "}\n",
    "df = pd.DataFrame(data)\n",
    "\n",
    "# Selecting feature columns\n",
    "X = df[['feature1', 'feature2']]\n",
    "y = df['class']\n",
    "\n",
    "# Stratified train-test split\n",
    "X_train, X_test, y_train, y_test = train_test_split(X, y, stratify=y, test_size=0.2, random_state=22)\n",
    "\n",
    "# Displaying training features\n",
    "print(\"Training Data:\")\n",
    "train_data=pd.concat([X_train,y_train],axis=1)\n",
    "print(train_data)\n",
    "print(\"Testing Data\")\n",
    "test_data=pd.concat([X_test,y_test],axis=1)\n",
    "print(test_data)\n"
   ]
  },
  {
   "cell_type": "code",
   "execution_count": 69,
   "id": "088fb882-8bdc-4764-8d4d-9956fbc9f4d4",
   "metadata": {},
   "outputs": [
    {
     "data": {
      "text/html": [
       "<div>\n",
       "<style scoped>\n",
       "    .dataframe tbody tr th:only-of-type {\n",
       "        vertical-align: middle;\n",
       "    }\n",
       "\n",
       "    .dataframe tbody tr th {\n",
       "        vertical-align: top;\n",
       "    }\n",
       "\n",
       "    .dataframe thead th {\n",
       "        text-align: right;\n",
       "    }\n",
       "</style>\n",
       "<table border=\"1\" class=\"dataframe\">\n",
       "  <thead>\n",
       "    <tr style=\"text-align: right;\">\n",
       "      <th></th>\n",
       "      <th>feature1</th>\n",
       "      <th>feature</th>\n",
       "      <th>feature 3</th>\n",
       "    </tr>\n",
       "  </thead>\n",
       "  <tbody>\n",
       "    <tr>\n",
       "      <th>0</th>\n",
       "      <td>0</td>\n",
       "      <td>Grade 11</td>\n",
       "      <td>1</td>\n",
       "    </tr>\n",
       "    <tr>\n",
       "      <th>1</th>\n",
       "      <td>1</td>\n",
       "      <td>Grade 11</td>\n",
       "      <td>3</td>\n",
       "    </tr>\n",
       "    <tr>\n",
       "      <th>2</th>\n",
       "      <td>2</td>\n",
       "      <td>Grade 13</td>\n",
       "      <td>13</td>\n",
       "    </tr>\n",
       "    <tr>\n",
       "      <th>3</th>\n",
       "      <td>3</td>\n",
       "      <td>Grade 11</td>\n",
       "      <td>6</td>\n",
       "    </tr>\n",
       "    <tr>\n",
       "      <th>4</th>\n",
       "      <td>4</td>\n",
       "      <td>Grade 12</td>\n",
       "      <td>12</td>\n",
       "    </tr>\n",
       "    <tr>\n",
       "      <th>5</th>\n",
       "      <td>5</td>\n",
       "      <td>Grade 9</td>\n",
       "      <td>29</td>\n",
       "    </tr>\n",
       "    <tr>\n",
       "      <th>6</th>\n",
       "      <td>6</td>\n",
       "      <td>Grade 13</td>\n",
       "      <td>18</td>\n",
       "    </tr>\n",
       "    <tr>\n",
       "      <th>7</th>\n",
       "      <td>7</td>\n",
       "      <td>Grade 10</td>\n",
       "      <td>12</td>\n",
       "    </tr>\n",
       "    <tr>\n",
       "      <th>8</th>\n",
       "      <td>8</td>\n",
       "      <td>Grade 12</td>\n",
       "      <td>14</td>\n",
       "    </tr>\n",
       "    <tr>\n",
       "      <th>9</th>\n",
       "      <td>9</td>\n",
       "      <td>Grade 9</td>\n",
       "      <td>19</td>\n",
       "    </tr>\n",
       "    <tr>\n",
       "      <th>10</th>\n",
       "      <td>10</td>\n",
       "      <td>Grade 10</td>\n",
       "      <td>24</td>\n",
       "    </tr>\n",
       "    <tr>\n",
       "      <th>11</th>\n",
       "      <td>11</td>\n",
       "      <td>Grade 9</td>\n",
       "      <td>27</td>\n",
       "    </tr>\n",
       "    <tr>\n",
       "      <th>12</th>\n",
       "      <td>12</td>\n",
       "      <td>Grade 11</td>\n",
       "      <td>23</td>\n",
       "    </tr>\n",
       "    <tr>\n",
       "      <th>13</th>\n",
       "      <td>13</td>\n",
       "      <td>Grade 13</td>\n",
       "      <td>18</td>\n",
       "    </tr>\n",
       "    <tr>\n",
       "      <th>14</th>\n",
       "      <td>14</td>\n",
       "      <td>Grade 10</td>\n",
       "      <td>8</td>\n",
       "    </tr>\n",
       "    <tr>\n",
       "      <th>15</th>\n",
       "      <td>15</td>\n",
       "      <td>Grade 10</td>\n",
       "      <td>21</td>\n",
       "    </tr>\n",
       "    <tr>\n",
       "      <th>16</th>\n",
       "      <td>16</td>\n",
       "      <td>Grade 12</td>\n",
       "      <td>13</td>\n",
       "    </tr>\n",
       "    <tr>\n",
       "      <th>17</th>\n",
       "      <td>17</td>\n",
       "      <td>Grade 10</td>\n",
       "      <td>29</td>\n",
       "    </tr>\n",
       "    <tr>\n",
       "      <th>18</th>\n",
       "      <td>18</td>\n",
       "      <td>Grade 10</td>\n",
       "      <td>30</td>\n",
       "    </tr>\n",
       "    <tr>\n",
       "      <th>19</th>\n",
       "      <td>19</td>\n",
       "      <td>Grade 10</td>\n",
       "      <td>29</td>\n",
       "    </tr>\n",
       "    <tr>\n",
       "      <th>20</th>\n",
       "      <td>20</td>\n",
       "      <td>Grade 10</td>\n",
       "      <td>22</td>\n",
       "    </tr>\n",
       "    <tr>\n",
       "      <th>21</th>\n",
       "      <td>21</td>\n",
       "      <td>Grade 11</td>\n",
       "      <td>8</td>\n",
       "    </tr>\n",
       "    <tr>\n",
       "      <th>22</th>\n",
       "      <td>22</td>\n",
       "      <td>Grade 11</td>\n",
       "      <td>26</td>\n",
       "    </tr>\n",
       "    <tr>\n",
       "      <th>23</th>\n",
       "      <td>23</td>\n",
       "      <td>Grade 9</td>\n",
       "      <td>18</td>\n",
       "    </tr>\n",
       "    <tr>\n",
       "      <th>24</th>\n",
       "      <td>24</td>\n",
       "      <td>Grade 11</td>\n",
       "      <td>18</td>\n",
       "    </tr>\n",
       "    <tr>\n",
       "      <th>25</th>\n",
       "      <td>25</td>\n",
       "      <td>Grade 13</td>\n",
       "      <td>20</td>\n",
       "    </tr>\n",
       "    <tr>\n",
       "      <th>26</th>\n",
       "      <td>26</td>\n",
       "      <td>Grade 10</td>\n",
       "      <td>14</td>\n",
       "    </tr>\n",
       "    <tr>\n",
       "      <th>27</th>\n",
       "      <td>27</td>\n",
       "      <td>Grade 12</td>\n",
       "      <td>3</td>\n",
       "    </tr>\n",
       "    <tr>\n",
       "      <th>28</th>\n",
       "      <td>28</td>\n",
       "      <td>Grade 9</td>\n",
       "      <td>21</td>\n",
       "    </tr>\n",
       "    <tr>\n",
       "      <th>29</th>\n",
       "      <td>29</td>\n",
       "      <td>Grade 13</td>\n",
       "      <td>13</td>\n",
       "    </tr>\n",
       "  </tbody>\n",
       "</table>\n",
       "</div>"
      ],
      "text/plain": [
       "    feature1   feature  feature 3\n",
       "0          0  Grade 11          1\n",
       "1          1  Grade 11          3\n",
       "2          2  Grade 13         13\n",
       "3          3  Grade 11          6\n",
       "4          4  Grade 12         12\n",
       "5          5   Grade 9         29\n",
       "6          6  Grade 13         18\n",
       "7          7  Grade 10         12\n",
       "8          8  Grade 12         14\n",
       "9          9   Grade 9         19\n",
       "10        10  Grade 10         24\n",
       "11        11   Grade 9         27\n",
       "12        12  Grade 11         23\n",
       "13        13  Grade 13         18\n",
       "14        14  Grade 10          8\n",
       "15        15  Grade 10         21\n",
       "16        16  Grade 12         13\n",
       "17        17  Grade 10         29\n",
       "18        18  Grade 10         30\n",
       "19        19  Grade 10         29\n",
       "20        20  Grade 10         22\n",
       "21        21  Grade 11          8\n",
       "22        22  Grade 11         26\n",
       "23        23   Grade 9         18\n",
       "24        24  Grade 11         18\n",
       "25        25  Grade 13         20\n",
       "26        26  Grade 10         14\n",
       "27        27  Grade 12          3\n",
       "28        28   Grade 9         21\n",
       "29        29  Grade 13         13"
      ]
     },
     "execution_count": 69,
     "metadata": {},
     "output_type": "execute_result"
    }
   ],
   "source": [
    "import pandas as pd\n",
    "from sklearn.model_selection import train_test_split\n",
    "\n",
    "# Creating the DataFrame\n",
    "data = {\n",
    "    'feature1': range(0,30),\n",
    "    'feature': np.random.choice(['Grade 9','Grade 10','Grade 11','Grade 12','Grade 13'],30),\n",
    "    'feature 3': np.random.randint(0,31,30)\n",
    "}\n",
    "df = pd.DataFrame(data)\n",
    "df\n"
   ]
  },
  {
   "cell_type": "code",
   "execution_count": 71,
   "id": "96c762aa-65c9-4f77-8a51-4591982da117",
   "metadata": {},
   "outputs": [
    {
     "data": {
      "text/plain": [
       "array(['Grade 11', 'Grade 13', 'Grade 12', 'Grade 9', 'Grade 10'],\n",
       "      dtype=object)"
      ]
     },
     "execution_count": 71,
     "metadata": {},
     "output_type": "execute_result"
    }
   ],
   "source": [
    "df['feature'].unique()"
   ]
  },
  {
   "cell_type": "code",
   "execution_count": 85,
   "id": "8aaf8905-8b56-4017-a42d-f9ce8a11c407",
   "metadata": {},
   "outputs": [
    {
     "data": {
      "text/plain": [
       "feature\n",
       "Grade 10    9\n",
       "Grade 11    7\n",
       "Grade 13    5\n",
       "Grade 9     5\n",
       "Grade 12    4\n",
       "Name: count, dtype: int64"
      ]
     },
     "execution_count": 85,
     "metadata": {},
     "output_type": "execute_result"
    }
   ],
   "source": [
    "df['feature'].value_counts()"
   ]
  },
  {
   "cell_type": "code",
   "execution_count": 75,
   "id": "8edd2965-f67c-40a3-853b-6407c7fcee1d",
   "metadata": {},
   "outputs": [
    {
     "data": {
      "text/plain": [
       "array(['Grade 9', 'Grade 10'], dtype=object)"
      ]
     },
     "execution_count": 75,
     "metadata": {},
     "output_type": "execute_result"
    }
   ],
   "source": [
    "selected_cl=np.random.choice(df['feature'].unique(),size=2,replace=False)\n",
    "selected_cl"
   ]
  },
  {
   "cell_type": "code",
   "execution_count": 101,
   "id": "5b6e72a5-f224-4c3a-8472-d3f543c748ba",
   "metadata": {},
   "outputs": [
    {
     "data": {
      "text/html": [
       "<div>\n",
       "<style scoped>\n",
       "    .dataframe tbody tr th:only-of-type {\n",
       "        vertical-align: middle;\n",
       "    }\n",
       "\n",
       "    .dataframe tbody tr th {\n",
       "        vertical-align: top;\n",
       "    }\n",
       "\n",
       "    .dataframe thead th {\n",
       "        text-align: right;\n",
       "    }\n",
       "</style>\n",
       "<table border=\"1\" class=\"dataframe\">\n",
       "  <thead>\n",
       "    <tr style=\"text-align: right;\">\n",
       "      <th></th>\n",
       "      <th>feature1</th>\n",
       "      <th>feature</th>\n",
       "      <th>feature 3</th>\n",
       "    </tr>\n",
       "  </thead>\n",
       "  <tbody>\n",
       "    <tr>\n",
       "      <th>23</th>\n",
       "      <td>23</td>\n",
       "      <td>Grade 9</td>\n",
       "      <td>18</td>\n",
       "    </tr>\n",
       "    <tr>\n",
       "      <th>28</th>\n",
       "      <td>28</td>\n",
       "      <td>Grade 9</td>\n",
       "      <td>21</td>\n",
       "    </tr>\n",
       "    <tr>\n",
       "      <th>18</th>\n",
       "      <td>18</td>\n",
       "      <td>Grade 10</td>\n",
       "      <td>30</td>\n",
       "    </tr>\n",
       "    <tr>\n",
       "      <th>20</th>\n",
       "      <td>20</td>\n",
       "      <td>Grade 10</td>\n",
       "      <td>22</td>\n",
       "    </tr>\n",
       "    <tr>\n",
       "      <th>14</th>\n",
       "      <td>14</td>\n",
       "      <td>Grade 10</td>\n",
       "      <td>8</td>\n",
       "    </tr>\n",
       "    <tr>\n",
       "      <th>10</th>\n",
       "      <td>10</td>\n",
       "      <td>Grade 10</td>\n",
       "      <td>24</td>\n",
       "    </tr>\n",
       "  </tbody>\n",
       "</table>\n",
       "</div>"
      ],
      "text/plain": [
       "    feature1   feature  feature 3\n",
       "23        23   Grade 9         18\n",
       "28        28   Grade 9         21\n",
       "18        18  Grade 10         30\n",
       "20        20  Grade 10         22\n",
       "14        14  Grade 10          8\n",
       "10        10  Grade 10         24"
      ]
     },
     "execution_count": 101,
     "metadata": {},
     "output_type": "execute_result"
    }
   ],
   "source": [
    "multistage_df=pd.DataFrame()\n",
    "for grade in selected_cl:\n",
    "    mask=(df['feature']==grade)\n",
    "    actual_grade=df[mask]\n",
    "    sizee=int(len(actual_grade)*0.5)\n",
    "    subsample=actual_grade.sample(n=sizee)\n",
    "    \n",
    "    multistage_df=pd.concat([multistage_df,subsample],axis=0)\n",
    "multistage_df"
   ]
  },
  {
   "cell_type": "code",
   "execution_count": 102,
   "id": "4ccdf76f-89b0-4d76-8c43-57f3f847124e",
   "metadata": {
    "scrolled": true
   },
   "outputs": [
    {
     "data": {
      "text/plain": [
       "array([[ 2.5, -1.5],\n",
       "       [-1.5,  2.3]])"
      ]
     },
     "execution_count": 102,
     "metadata": {},
     "output_type": "execute_result"
    }
   ],
   "source": [
    "x=[3,4,5,6,7]\n",
    "y=[3,5,2,1,2]\n",
    "cov_matrix=np.cov(x,y)\n",
    "cov_matrix"
   ]
  },
  {
   "cell_type": "code",
   "execution_count": 103,
   "id": "1afc10d9-5b13-4f28-bb0a-419eb3966760",
   "metadata": {},
   "outputs": [
    {
     "data": {
      "text/plain": [
       "array([[ 2.5, 15. ],\n",
       "       [15. , 93.5]])"
      ]
     },
     "execution_count": 103,
     "metadata": {},
     "output_type": "execute_result"
    }
   ],
   "source": [
    "x=[1,2,3,4,5]\n",
    "y=[1,4,9,16,25]\n",
    "cov_matrix=np.cov(x,y)\n",
    "cov_matrix"
   ]
  },
  {
   "cell_type": "code",
   "execution_count": 106,
   "id": "3c707ca0-ae4b-4023-a88d-aa4187a887c8",
   "metadata": {},
   "outputs": [
    {
     "data": {
      "text/html": [
       "<div>\n",
       "<style scoped>\n",
       "    .dataframe tbody tr th:only-of-type {\n",
       "        vertical-align: middle;\n",
       "    }\n",
       "\n",
       "    .dataframe tbody tr th {\n",
       "        vertical-align: top;\n",
       "    }\n",
       "\n",
       "    .dataframe thead th {\n",
       "        text-align: right;\n",
       "    }\n",
       "</style>\n",
       "<table border=\"1\" class=\"dataframe\">\n",
       "  <thead>\n",
       "    <tr style=\"text-align: right;\">\n",
       "      <th></th>\n",
       "      <th>x</th>\n",
       "      <th>y</th>\n",
       "    </tr>\n",
       "  </thead>\n",
       "  <tbody>\n",
       "    <tr>\n",
       "      <th>x</th>\n",
       "      <td>1.000000</td>\n",
       "      <td>0.981105</td>\n",
       "    </tr>\n",
       "    <tr>\n",
       "      <th>y</th>\n",
       "      <td>0.981105</td>\n",
       "      <td>1.000000</td>\n",
       "    </tr>\n",
       "  </tbody>\n",
       "</table>\n",
       "</div>"
      ],
      "text/plain": [
       "          x         y\n",
       "x  1.000000  0.981105\n",
       "y  0.981105  1.000000"
      ]
     },
     "execution_count": 106,
     "metadata": {},
     "output_type": "execute_result"
    }
   ],
   "source": [
    "data={\n",
    "    'x':[1,2,3,4,5],\n",
    "    'y':[1,4,9,16,25]\n",
    "}\n",
    "df=pd.DataFrame(data)\n",
    "cor_matrix=df.corr()\n",
    "cor_matrix"
   ]
  },
  {
   "cell_type": "code",
   "execution_count": 107,
   "id": "138401c6-abb3-4bc8-b975-454151e363f4",
   "metadata": {},
   "outputs": [
    {
     "data": {
      "image/png": "[encoded data removed]",
      "text/plain": [
       "<Figure size 640x480 with 2 Axes>"
      ]
     },
     "metadata": {},
     "output_type": "display_data"
    }
   ],
   "source": [
    "import seaborn as sns\n",
    "import pandas as pd\n",
    "import matplotlib.pyplot as plt\n",
    "\n",
    "data = {\n",
    "    'x': [1, 2, 3, 4, 5],\n",
    "    'y': [1, 4, 9, 16, 25]\n",
    "}\n",
    "df = pd.DataFrame(data)\n",
    "cor_matrix = df.corr()\n",
    "\n",
    "# Plotting the correlation matrix with annotations\n",
    "sns.heatmap(cor_matrix, annot=True, cmap='coolwarm', fmt='.2f')\n",
    "\n",
    "plt.show()\n"
   ]
  },
  {
   "cell_type": "code",
   "execution_count": 109,
   "id": "f928d5af-79cd-4631-9181-8ebe2710057f",
   "metadata": {},
   "outputs": [
    {
     "data": {
      "text/plain": [
       "array([[ 1,  2,  3,  4,  5],\n",
       "       [ 1,  4,  9, 16, 25]])"
      ]
     },
     "execution_count": 109,
     "metadata": {},
     "output_type": "execute_result"
    }
   ],
   "source": [
    "data = np.array([[1, 2, 3, 4, 5],[1, 4, 9, 16, 25]])\n",
    "data"
   ]
  },
  {
   "cell_type": "code",
   "execution_count": 113,
   "id": "e9831ad0-6a40-4499-a7dd-91f673a71588",
   "metadata": {},
   "outputs": [],
   "source": [
    "minmax=MinMaxScaler()\n",
    "stand=StandardScaler()"
   ]
  },
  {
   "cell_type": "code",
   "execution_count": 115,
   "id": "3bf3cde9-cebe-4035-bc7a-5545f17f53ca",
   "metadata": {},
   "outputs": [],
   "source": [
    "norm=minmax.fit_transform(data)\n",
    "stan=stand.fit_transform(data)"
   ]
  },
  {
   "cell_type": "code",
   "execution_count": 116,
   "id": "6c86aedf-7083-447f-8a9c-79133056e0a1",
   "metadata": {},
   "outputs": [
    {
     "data": {
      "text/plain": [
       "array([[0., 0., 0., 0., 0.],\n",
       "       [0., 1., 1., 1., 1.]])"
      ]
     },
     "execution_count": 116,
     "metadata": {},
     "output_type": "execute_result"
    }
   ],
   "source": [
    "norm"
   ]
  },
  {
   "cell_type": "code",
   "execution_count": 118,
   "id": "04c1f54b-88dc-4781-a9b2-fe479339f23a",
   "metadata": {},
   "outputs": [
    {
     "data": {
      "text/plain": [
       "array([[ 0., -1., -1., -1., -1.],\n",
       "       [ 0.,  1.,  1.,  1.,  1.]])"
      ]
     },
     "execution_count": 118,
     "metadata": {},
     "output_type": "execute_result"
    }
   ],
   "source": [
    "stan"
   ]
  },
  {
   "cell_type": "code",
   "execution_count": null,
   "id": "7e2700d0-bc82-4077-8bad-162dd65fed44",
   "metadata": {},
   "outputs": [],
   "source": []
  }
 ],
 "metadata": {
  "kernelspec": {
   "display_name": "Python 3 (ipykernel)",
   "language": "python",
   "name": "python3"
  },
  "language_info": {
   "codemirror_mode": {
    "name": "ipython",
    "version": 3
   },
   "file_extension": ".py",
   "mimetype": "text/x-python",
   "name": "python",
   "nbconvert_exporter": "python",
   "pygments_lexer": "ipython3",
   "version": "3.9.13"
  }
 },
 "nbformat": 4,
 "nbformat_minor": 5
}
